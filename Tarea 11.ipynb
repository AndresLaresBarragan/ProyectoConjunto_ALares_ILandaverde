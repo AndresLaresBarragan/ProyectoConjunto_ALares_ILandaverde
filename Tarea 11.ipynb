{
 "cells": [
  {
   "cell_type": "markdown",
   "metadata": {},
   "source": [
    "<img style=\"float: left; margin: 30px 15px 15px 15px;\" src=\"https://pngimage.net/wp-content/uploads/2018/06/logo-iteso-png-5.png\" width=\"300\" height=\"500\" /> \n",
    "    \n",
    "    \n",
    "### <font color='navy'> Simulación de procesos financieros. \n",
    "\n",
    "**Nombres:** <span style=\"color:firebrick\"> Andrés Lares Barragán</span> | <span style=\"color:green\"> Ivette Landaverde Mercado </span>\n",
    "\n",
    "**Fecha:** 07 de mayo del 2021.  \n",
    "\n",
    "**Expediente** : <span style=\"color:firebrick\"> 724055 </span> | <span style=\"color:green\"> 722626 </span>\n",
    "\n",
    "**Profesor:** Oscar David Jaramillo Zuluaga.\n",
    "\n",
    "# Tarea 11: Clase 24\n",
    "    \n",
    "### [Link de repositorio GitHub](https://github.com/AndresLaresBarragan/ProyectoConjunto_ALares_ILandaverde)"
   ]
  },
  {
   "cell_type": "markdown",
   "metadata": {},
   "source": [
    "Realizar la valuación de las opciones barrera para las acciones de Microsoft, siguiendo los siguientes lineamientos:\n",
    "1. Realizar la valuación para el tipo de opción barrera 'CALL'- down-and-out, usando la suposición de rendimientos normales y usando el método del histograma. Para ambas valuaciones, comparar los resultados de la evaluación obtenida con los resultados obtenidos por la valuación Europea. Como se realizó en clase.\n",
    "2. Repetir el inciso anterior pero en esta ocasión para el caso de 'PUT'- Up-and-out.\n",
    "\n",
    "**Nota:** Analice los datos descargados y según el método ya sea `down-and-out` o `Up-and-out` defina un strike price usando la volatility smile vista en la clase de opciones europeas y basado en el spot price y el strike defina una barrera adecuada.\n",
    "\n",
    "Se habilitará un enlace en canvas para subir un cuaderno de python, con la solución.\n",
    "\n",
    "**Criterio de revisión.**\n",
    "\n",
    "> Se te calificará de acuerdo a los resultados finales que reportes, basados en tu análisis."
   ]
  },
  {
   "cell_type": "code",
   "execution_count": 1,
   "metadata": {},
   "outputs": [],
   "source": [
    "#pip install plotly"
   ]
  },
  {
   "cell_type": "code",
   "execution_count": 2,
   "metadata": {},
   "outputs": [],
   "source": [
    "# importar paqueterías\n",
    "import pandas as pd\n",
    "import pandas_datareader.data as web\n",
    "import numpy as np\n",
    "import datetime\n",
    "import matplotlib.pyplot as plt\n",
    "import scipy.stats as st\n",
    "import seaborn as sns\n",
    "#import plotly.graph_objects as go"
   ]
  },
  {
   "cell_type": "markdown",
   "metadata": {},
   "source": [
    "### <span style=\"color:firebrick\"> Andrés Lares Barragán</span>  \n"
   ]
  },
  {
   "cell_type": "code",
   "execution_count": 3,
   "metadata": {},
   "outputs": [],
   "source": [
    "# Solucion"
   ]
  },
  {
   "cell_type": "markdown",
   "metadata": {},
   "source": [
    "### <span style=\"color:green\"> Ivette Landaverde </span>"
   ]
  },
  {
   "cell_type": "code",
   "execution_count": null,
   "metadata": {},
   "outputs": [],
   "source": []
  },
  {
   "cell_type": "code",
   "execution_count": 4,
   "metadata": {},
   "outputs": [],
   "source": [
    "# Solución \n",
    "#Librerías:\n",
    "#importar los paquetes que se van a usar\n",
    "import pandas as pd\n",
    "import pandas_datareader.data as web\n",
    "import numpy as np\n",
    "from sklearn.neighbors import KernelDensity\n",
    "import datetime\n",
    "from datetime import datetime, timedelta\n",
    "import scipy.stats as st\n",
    "import scipy as sp\n",
    "import scipy.optimize as optimize\n",
    "import scipy.cluster.hierarchy as hac\n",
    "import matplotlib.pyplot as plt\n",
    "import seaborn as sns\n",
    "from datetime import date\n",
    "%matplotlib inline\n",
    "#algunas opciones para Python\n",
    "pd.set_option('display.notebook_repr_html', True)\n",
    "pd.set_option('display.max_columns', 6)\n",
    "pd.set_option('display.max_rows', 10)\n",
    "pd.set_option('display.width', 78)\n",
    "pd.set_option('precision', 3)\n",
    "\n",
    "# Función para descargar precios de cierre ajustados:\n",
    "def get_adj_closes(tickers, start_date=None, end_date=None):\n",
    "    # Fecha inicio por defecto (start_date='2010-01-01') y fecha fin por defecto (end_date=today)\n",
    "    # Descargamos DataFrame con todos los datos\n",
    "    closes = web.DataReader(name=tickers, data_source='yahoo', start=start_date, end=end_date)\n",
    "    # Solo necesitamos los precios ajustados en el cierre\n",
    "    closes = closes['Adj Close']\n",
    "    # Se ordenan los índices de manera ascendente\n",
    "    closes.sort_index(inplace=True)\n",
    "    return closes\n",
    "\n",
    "####### Calculation of log-returns\n",
    "def calc_daily_ret(closes):\n",
    "    return np.log(closes/closes.shift(1)).dropna()\n",
    "\n",
    "# Datos: \n",
    "date = '2022-01-21'"
   ]
  },
  {
   "cell_type": "markdown",
   "metadata": {},
   "source": [
    "### Call - down and out"
   ]
  },
  {
   "cell_type": "code",
   "execution_count": 5,
   "metadata": {},
   "outputs": [
    {
     "data": {
      "text/plain": [
       "Date\n",
       "2017-01-03    58.538\n",
       "2017-01-04    58.276\n",
       "2017-01-05    58.276\n",
       "Name: MSFT, dtype: float64"
      ]
     },
     "execution_count": 5,
     "metadata": {},
     "output_type": "execute_result"
    }
   ],
   "source": [
    "closes = get_adj_closes(['MSFT'], '2017-01-01')\n",
    "closes_micro = closes.loc[:,'MSFT']\n",
    "closes_micro.head(3)"
   ]
  },
  {
   "cell_type": "code",
   "execution_count": 6,
   "metadata": {},
   "outputs": [
    {
     "data": {
      "text/plain": [
       "(0.0013372091431082377, 0.01797312595647632, 1.6666666666666667e-05)"
      ]
     },
     "execution_count": 6,
     "metadata": {},
     "output_type": "execute_result"
    }
   ],
   "source": [
    "ret_micro = calc_daily_ret(closes_micro)\n",
    "mu = ret_micro.mean()\n",
    "sigma = ret_micro.std()\n",
    "r = (0.006/360)\n",
    "mu,sigma,r"
   ]
  },
  {
   "cell_type": "code",
   "execution_count": 7,
   "metadata": {},
   "outputs": [
    {
     "data": {
      "text/html": [
       "<div>\n",
       "<style scoped>\n",
       "    .dataframe tbody tr th:only-of-type {\n",
       "        vertical-align: middle;\n",
       "    }\n",
       "\n",
       "    .dataframe tbody tr th {\n",
       "        vertical-align: top;\n",
       "    }\n",
       "\n",
       "    .dataframe thead th {\n",
       "        text-align: right;\n",
       "    }\n",
       "</style>\n",
       "<table border=\"1\" class=\"dataframe\">\n",
       "  <thead>\n",
       "    <tr style=\"text-align: right;\">\n",
       "      <th></th>\n",
       "      <th>Strike</th>\n",
       "      <th>Type</th>\n",
       "      <th>Symbol</th>\n",
       "      <th>...</th>\n",
       "      <th>Quote_Time</th>\n",
       "      <th>Last_Trade_Date</th>\n",
       "      <th>JSON</th>\n",
       "    </tr>\n",
       "    <tr>\n",
       "      <th>Expiry</th>\n",
       "      <th></th>\n",
       "      <th></th>\n",
       "      <th></th>\n",
       "      <th></th>\n",
       "      <th></th>\n",
       "      <th></th>\n",
       "      <th></th>\n",
       "    </tr>\n",
       "  </thead>\n",
       "  <tbody>\n",
       "    <tr>\n",
       "      <th>2021-05-14</th>\n",
       "      <td>217.5</td>\n",
       "      <td>call</td>\n",
       "      <td>MSFT210514C00217500</td>\n",
       "      <td>...</td>\n",
       "      <td>2021-05-07 20:00:02</td>\n",
       "      <td>2021-05-04 15:48:12</td>\n",
       "      <td>{'contractSymbol': 'MSFT210514C00217500', 'str...</td>\n",
       "    </tr>\n",
       "    <tr>\n",
       "      <th>2021-05-14</th>\n",
       "      <td>150.0</td>\n",
       "      <td>put</td>\n",
       "      <td>MSFT210514P00150000</td>\n",
       "      <td>...</td>\n",
       "      <td>2021-05-07 20:00:02</td>\n",
       "      <td>2021-04-19 04:01:31</td>\n",
       "      <td>{'contractSymbol': 'MSFT210514P00150000', 'str...</td>\n",
       "    </tr>\n",
       "    <tr>\n",
       "      <th>2021-05-14</th>\n",
       "      <td>305.0</td>\n",
       "      <td>call</td>\n",
       "      <td>MSFT210514C00305000</td>\n",
       "      <td>...</td>\n",
       "      <td>2021-05-07 20:00:02</td>\n",
       "      <td>2021-05-07 17:42:17</td>\n",
       "      <td>{'contractSymbol': 'MSFT210514C00305000', 'str...</td>\n",
       "    </tr>\n",
       "  </tbody>\n",
       "</table>\n",
       "<p>3 rows × 18 columns</p>\n",
       "</div>"
      ],
      "text/plain": [
       "            Strike  Type               Symbol  ...          Quote_Time  \\\n",
       "Expiry                                         ...                       \n",
       "2021-05-14   217.5  call  MSFT210514C00217500  ... 2021-05-07 20:00:02   \n",
       "2021-05-14   150.0   put  MSFT210514P00150000  ... 2021-05-07 20:00:02   \n",
       "2021-05-14   305.0  call  MSFT210514C00305000  ... 2021-05-07 20:00:02   \n",
       "\n",
       "               Last_Trade_Date  \\\n",
       "Expiry                           \n",
       "2021-05-14 2021-05-04 15:48:12   \n",
       "2021-05-14 2021-04-19 04:01:31   \n",
       "2021-05-14 2021-05-07 17:42:17   \n",
       "\n",
       "                                                         JSON  \n",
       "Expiry                                                         \n",
       "2021-05-14  {'contractSymbol': 'MSFT210514C00217500', 'str...  \n",
       "2021-05-14  {'contractSymbol': 'MSFT210514P00150000', 'str...  \n",
       "2021-05-14  {'contractSymbol': 'MSFT210514C00305000', 'str...  \n",
       "\n",
       "[3 rows x 18 columns]"
      ]
     },
     "execution_count": 7,
     "metadata": {},
     "output_type": "execute_result"
    }
   ],
   "source": [
    "micro = web.YahooOptions('MSFT')\n",
    "micro_opt = micro.get_all_data().reset_index()\n",
    "micro_opt.set_index('Expiry').sort_index().head(3)"
   ]
  },
  {
   "cell_type": "code",
   "execution_count": 8,
   "metadata": {},
   "outputs": [
    {
     "data": {
      "text/html": [
       "<div>\n",
       "<style scoped>\n",
       "    .dataframe tbody tr th:only-of-type {\n",
       "        vertical-align: middle;\n",
       "    }\n",
       "\n",
       "    .dataframe tbody tr th {\n",
       "        vertical-align: top;\n",
       "    }\n",
       "\n",
       "    .dataframe thead th {\n",
       "        text-align: right;\n",
       "    }\n",
       "</style>\n",
       "<table border=\"1\" class=\"dataframe\">\n",
       "  <thead>\n",
       "    <tr style=\"text-align: right;\">\n",
       "      <th></th>\n",
       "      <th>Strike</th>\n",
       "      <th>Expiry</th>\n",
       "      <th>Type</th>\n",
       "      <th>...</th>\n",
       "      <th>Quote_Time</th>\n",
       "      <th>Last_Trade_Date</th>\n",
       "      <th>JSON</th>\n",
       "    </tr>\n",
       "  </thead>\n",
       "  <tbody>\n",
       "    <tr>\n",
       "      <th>4</th>\n",
       "      <td>70.0</td>\n",
       "      <td>2022-01-21</td>\n",
       "      <td>call</td>\n",
       "      <td>...</td>\n",
       "      <td>2021-05-07 20:00:02</td>\n",
       "      <td>2021-05-05 15:43:59</td>\n",
       "      <td>{'contractSymbol': 'MSFT220121C00070000', 'str...</td>\n",
       "    </tr>\n",
       "    <tr>\n",
       "      <th>8</th>\n",
       "      <td>75.0</td>\n",
       "      <td>2022-01-21</td>\n",
       "      <td>call</td>\n",
       "      <td>...</td>\n",
       "      <td>2021-05-07 20:00:02</td>\n",
       "      <td>2021-04-28 13:52:19</td>\n",
       "      <td>{'contractSymbol': 'MSFT220121C00075000', 'str...</td>\n",
       "    </tr>\n",
       "    <tr>\n",
       "      <th>12</th>\n",
       "      <td>80.0</td>\n",
       "      <td>2022-01-21</td>\n",
       "      <td>call</td>\n",
       "      <td>...</td>\n",
       "      <td>2021-05-07 20:00:02</td>\n",
       "      <td>2021-03-26 18:52:06</td>\n",
       "      <td>{'contractSymbol': 'MSFT220121C00080000', 'str...</td>\n",
       "    </tr>\n",
       "  </tbody>\n",
       "</table>\n",
       "<p>3 rows × 19 columns</p>\n",
       "</div>"
      ],
      "text/plain": [
       "    Strike     Expiry  Type  ...          Quote_Time     Last_Trade_Date  \\\n",
       "4     70.0 2022-01-21  call  ... 2021-05-07 20:00:02 2021-05-05 15:43:59   \n",
       "8     75.0 2022-01-21  call  ... 2021-05-07 20:00:02 2021-04-28 13:52:19   \n",
       "12    80.0 2022-01-21  call  ... 2021-05-07 20:00:02 2021-03-26 18:52:06   \n",
       "\n",
       "                                                 JSON  \n",
       "4   {'contractSymbol': 'MSFT220121C00070000', 'str...  \n",
       "8   {'contractSymbol': 'MSFT220121C00075000', 'str...  \n",
       "12  {'contractSymbol': 'MSFT220121C00080000', 'str...  \n",
       "\n",
       "[3 rows x 19 columns]"
      ]
     },
     "execution_count": 8,
     "metadata": {},
     "output_type": "execute_result"
    }
   ],
   "source": [
    "opt_deseada = micro_opt.loc[(micro_opt.Type==\"call\") & (micro_opt.Strike==130) & (micro_opt.Expiry==date)]\n",
    "opt_valuar = opt_deseada.loc[list(opt_deseada.index)[0]]\n",
    "K = 250\n",
    "##\n",
    "call = micro_opt.loc[(micro_opt.Expiry== date) & (micro_opt.Type=='call')]\n",
    "call.head(3)"
   ]
  },
  {
   "cell_type": "code",
   "execution_count": 9,
   "metadata": {},
   "outputs": [
    {
     "data": {
      "image/png": "[encoded data removed]",
      "text/plain": [
       "<Figure size 288x216 with 1 Axes>"
      ]
     },
     "metadata": {
      "needs_background": "light"
     },
     "output_type": "display_data"
    }
   ],
   "source": [
    "#\n",
    "#Volatility smile:\n",
    "ax = call.set_index('Strike').loc[:,'IV'].plot(figsize=(4,3),lw=3,color='deeppink')\n",
    "ax.axvline(call.Underlying_Price.iloc[0],lw=3);"
   ]
  },
  {
   "cell_type": "code",
   "execution_count": 10,
   "metadata": {},
   "outputs": [
    {
     "data": {
      "text/plain": [
       "{'contractSymbol': 'MSFT220121C00250000',\n",
       " 'strike': 250.0,\n",
       " 'currency': 'USD',\n",
       " 'lastPrice': 21.75,\n",
       " 'change': 1.2000008,\n",
       " 'percentChange': 5.8394203,\n",
       " 'volume': 177,\n",
       " 'openInterest': 14582,\n",
       " 'bid': 21.45,\n",
       " 'ask': 22.0,\n",
       " 'contractSize': 'REGULAR',\n",
       " 'expiration': 1642723200,\n",
       " 'lastTradeDate': 1620414524,\n",
       " 'impliedVolatility': 0.24607077178955078,\n",
       " 'inTheMoney': True}"
      ]
     },
     "execution_count": 10,
     "metadata": {},
     "output_type": "execute_result"
    }
   ],
   "source": [
    "opt_deseada = micro_opt.loc[(micro_opt.Type=='call')&(micro_opt.Strike==K)&(micro_opt.Expiry==date)]\n",
    "opt_valuar = opt_deseada.loc[list(opt_deseada.index)[0]]\n",
    "opt_valuar['JSON']"
   ]
  },
  {
   "cell_type": "code",
   "execution_count": 11,
   "metadata": {},
   "outputs": [
    {
     "data": {
      "image/png": "[encoded data removed]",
      "text/plain": [
       "<Figure size 288x216 with 1 Axes>"
      ]
     },
     "metadata": {
      "needs_background": "light"
     },
     "output_type": "display_data"
    },
    {
     "data": {
      "image/png": "[encoded data removed]",
      "text/plain": [
       "<Figure size 288x216 with 1 Axes>"
      ]
     },
     "metadata": {
      "needs_background": "light"
     },
     "output_type": "display_data"
    }
   ],
   "source": [
    "# Datos de la opción y del día de actual\n",
    "from datetime import date\n",
    "today = pd.Timestamp(date.today())\n",
    "expiry = opt_valuar.Expiry\n",
    "# Fechas desde el día de hoy hasta la fecha de cierre del contrato (considerando unicamente los días hábiles)\n",
    "dates = pd.date_range(start=today, end=expiry, freq='B')\n",
    "# Cantidad de escenarios a simular para el método de montecarlo\n",
    "ndays = len(dates)\n",
    "nscen = 10000\n",
    "K = opt_valuar.Strike\n",
    "S0 = closes_micro.iloc[-1]\n",
    "sim_ret = pd.DataFrame(sigma*np.random.randn(ndays,nscen)+r,index=dates)\n",
    "sim_closes = S0*np.exp(sim_ret.cumsum())\n",
    "\n",
    "#____Valuación de la opción baśandonos en la función de pago correspondiente (Europea)____:\n",
    "strike = K\n",
    "call_=pd.DataFrame({'Prima':np.exp(-r*ndays)*np.fmax(sim_closes - strike,0).mean(axis=1)},index=dates)\n",
    "call_.plot(figsize=(4,3));\n",
    "#__________HISTOGRAMA DE RENDIMIENTOS_____________:\n",
    "\n",
    "# Centro mis datos en mi tasa libre de riesgo\n",
    "freq, values = np.histogram(ret_micro-mu+r, bins=10000)\n",
    "# freq = freq.astype('float32')\n",
    "prob = freq/np.sum(freq)\n",
    "#\n",
    "# Datos de la opción y del día de actual\n",
    "today = pd.Timestamp(date.today())\n",
    "expiry = opt_valuar.Expiry\n",
    "# Fechas desde el día de hoy hasta la fecha de cierre del contrato (considerando unicamente los días hábiles)\n",
    "dates = pd.date_range(start=today, end=expiry, freq='B')\n",
    "# Cantidad de escenarios a simular para el método de montecarlo\n",
    "ndays = len(dates)\n",
    "nscen = 10000\n",
    "K = opt_valuar.Strike\n",
    "S0 = closes_micro.iloc[-1]\n",
    "ret = np.random.choice(values[1:], (ndays,nscen), p=prob)\n",
    "sim_ret_hist = pd.DataFrame(ret, index=dates)\n",
    "sim_closes_hist = S0*np.exp(sim_ret_hist.cumsum())\n",
    "strike = pd.DataFrame(K*np.ones([ndays,nscen]),index=dates)\n",
    "call_hist=pd.DataFrame({'Prima':np.exp(-r*ndays)*np.fmax(sim_closes_hist-strike,np.zeros([ndays,nscen])).T.mean()},index=dates)\n",
    "call_hist.plot(figsize=(4,3));"
   ]
  },
  {
   "cell_type": "code",
   "execution_count": 12,
   "metadata": {},
   "outputs": [],
   "source": [
    "#"
   ]
  },
  {
   "cell_type": "code",
   "execution_count": 13,
   "metadata": {},
   "outputs": [
    {
     "data": {
      "text/html": [
       "<div>\n",
       "<style scoped>\n",
       "    .dataframe tbody tr th:only-of-type {\n",
       "        vertical-align: middle;\n",
       "    }\n",
       "\n",
       "    .dataframe tbody tr th {\n",
       "        vertical-align: top;\n",
       "    }\n",
       "\n",
       "    .dataframe thead th {\n",
       "        text-align: right;\n",
       "    }\n",
       "</style>\n",
       "<table border=\"1\" class=\"dataframe\">\n",
       "  <thead>\n",
       "    <tr style=\"text-align: right;\">\n",
       "      <th></th>\n",
       "      <th>0</th>\n",
       "      <th>1</th>\n",
       "      <th>2</th>\n",
       "      <th>3</th>\n",
       "      <th>4</th>\n",
       "      <th>5</th>\n",
       "      <th>6</th>\n",
       "      <th>...</th>\n",
       "      <th>9993</th>\n",
       "      <th>9994</th>\n",
       "      <th>9995</th>\n",
       "      <th>9996</th>\n",
       "      <th>9997</th>\n",
       "      <th>9998</th>\n",
       "      <th>9999</th>\n",
       "    </tr>\n",
       "  </thead>\n",
       "  <tbody>\n",
       "    <tr>\n",
       "      <th>2021-05-07</th>\n",
       "      <td>True</td>\n",
       "      <td>True</td>\n",
       "      <td>True</td>\n",
       "      <td>True</td>\n",
       "      <td>True</td>\n",
       "      <td>True</td>\n",
       "      <td>True</td>\n",
       "      <td>...</td>\n",
       "      <td>True</td>\n",
       "      <td>True</td>\n",
       "      <td>True</td>\n",
       "      <td>True</td>\n",
       "      <td>True</td>\n",
       "      <td>True</td>\n",
       "      <td>True</td>\n",
       "    </tr>\n",
       "    <tr>\n",
       "      <th>2021-05-10</th>\n",
       "      <td>True</td>\n",
       "      <td>True</td>\n",
       "      <td>True</td>\n",
       "      <td>True</td>\n",
       "      <td>True</td>\n",
       "      <td>True</td>\n",
       "      <td>True</td>\n",
       "      <td>...</td>\n",
       "      <td>True</td>\n",
       "      <td>True</td>\n",
       "      <td>True</td>\n",
       "      <td>True</td>\n",
       "      <td>True</td>\n",
       "      <td>True</td>\n",
       "      <td>True</td>\n",
       "    </tr>\n",
       "    <tr>\n",
       "      <th>2021-05-11</th>\n",
       "      <td>True</td>\n",
       "      <td>True</td>\n",
       "      <td>True</td>\n",
       "      <td>True</td>\n",
       "      <td>True</td>\n",
       "      <td>True</td>\n",
       "      <td>True</td>\n",
       "      <td>...</td>\n",
       "      <td>True</td>\n",
       "      <td>True</td>\n",
       "      <td>True</td>\n",
       "      <td>True</td>\n",
       "      <td>True</td>\n",
       "      <td>True</td>\n",
       "      <td>True</td>\n",
       "    </tr>\n",
       "  </tbody>\n",
       "</table>\n",
       "<p>3 rows × 10000 columns</p>\n",
       "</div>"
      ],
      "text/plain": [
       "            0     1     2     3     4     5     6     ...  9993  9994  9995  \\\n",
       "2021-05-07  True  True  True  True  True  True  True  ...  True  True  True   \n",
       "2021-05-10  True  True  True  True  True  True  True  ...  True  True  True   \n",
       "2021-05-11  True  True  True  True  True  True  True  ...  True  True  True   \n",
       "\n",
       "            9996  9997  9998  9999  \n",
       "2021-05-07  True  True  True  True  \n",
       "2021-05-10  True  True  True  True  \n",
       "2021-05-11  True  True  True  True  \n",
       "\n",
       "[3 rows x 10000 columns]"
      ]
     },
     "execution_count": 13,
     "metadata": {},
     "output_type": "execute_result"
    }
   ],
   "source": [
    "pd.set_option('display.max_columns', 15)\n",
    "# Precio barrera\n",
    "B = 200\n",
    "# Función de desactivación (knock-out) DOWN AND OUT\n",
    "# Si en algún momento el precio toca la barrera la opción se desactiva\n",
    "I=(sim_closes > B).cumprod(axis=0)  > 0\n",
    "I.head(3)"
   ]
  },
  {
   "cell_type": "code",
   "execution_count": 14,
   "metadata": {},
   "outputs": [
    {
     "data": {
      "text/plain": [
       "{'contractSymbol': 'MSFT220121C00250000',\n",
       " 'strike': 250.0,\n",
       " 'currency': 'USD',\n",
       " 'lastPrice': 21.75,\n",
       " 'change': 1.2000008,\n",
       " 'percentChange': 5.8394203,\n",
       " 'volume': 177,\n",
       " 'openInterest': 14582,\n",
       " 'bid': 21.45,\n",
       " 'ask': 22.0,\n",
       " 'contractSize': 'REGULAR',\n",
       " 'expiration': 1642723200,\n",
       " 'lastTradeDate': 1620414524,\n",
       " 'impliedVolatility': 0.24607077178955078,\n",
       " 'inTheMoney': True}"
      ]
     },
     "execution_count": 14,
     "metadata": {},
     "output_type": "execute_result"
    }
   ],
   "source": [
    "opt_valuar['JSON']"
   ]
  },
  {
   "cell_type": "code",
   "execution_count": 15,
   "metadata": {},
   "outputs": [
    {
     "data": {
      "text/plain": [
       "(250.0, 252.46)"
      ]
     },
     "execution_count": 15,
     "metadata": {},
     "output_type": "execute_result"
    }
   ],
   "source": [
    "#valuación\n",
    "K = opt_valuar.Strike\n",
    "S0 = opt_valuar.Underlying_Price\n",
    "K, S0"
   ]
  },
  {
   "cell_type": "code",
   "execution_count": 16,
   "metadata": {},
   "outputs": [
    {
     "data": {
      "image/png": "[encoded data removed]",
      "text/plain": [
       "<Figure size 288x216 with 1 Axes>"
      ]
     },
     "metadata": {
      "needs_background": "light"
     },
     "output_type": "display_data"
    }
   ],
   "source": [
    "#gráfico:\n",
    "# Calcular la prima de una opción Europea\n",
    "call = pd.DataFrame({'Prima Europea':np.exp(-r*ndays)*np.fmax(sim_closes - strike, 0)\n",
    "                     .mean(axis=1)},index=dates)\n",
    "# Calcular la prima de una opción barrera\n",
    "callui = pd.DataFrame({'Prima down-and-out':np.exp(-r*ndays)*(I * np.fmax(sim_closes - strike, 0))\n",
    "                       .mean(axis=1)},index=dates)\n",
    "# Graficar el resultado de las dos primas previamente valuadas\n",
    "ax = callui.plot(figsize=(4,3));\n",
    "call.plot(ax=ax);"
   ]
  },
  {
   "cell_type": "markdown",
   "metadata": {},
   "source": [
    "## Put- up and out:"
   ]
  },
  {
   "cell_type": "code",
   "execution_count": 17,
   "metadata": {},
   "outputs": [
    {
     "data": {
      "text/html": [
       "<div>\n",
       "<style scoped>\n",
       "    .dataframe tbody tr th:only-of-type {\n",
       "        vertical-align: middle;\n",
       "    }\n",
       "\n",
       "    .dataframe tbody tr th {\n",
       "        vertical-align: top;\n",
       "    }\n",
       "\n",
       "    .dataframe thead th {\n",
       "        text-align: right;\n",
       "    }\n",
       "</style>\n",
       "<table border=\"1\" class=\"dataframe\">\n",
       "  <thead>\n",
       "    <tr style=\"text-align: right;\">\n",
       "      <th></th>\n",
       "      <th>Strike</th>\n",
       "      <th>Expiry</th>\n",
       "      <th>Type</th>\n",
       "      <th>Symbol</th>\n",
       "      <th>Last</th>\n",
       "      <th>Bid</th>\n",
       "      <th>Ask</th>\n",
       "      <th>...</th>\n",
       "      <th>Root</th>\n",
       "      <th>IsNonstandard</th>\n",
       "      <th>Underlying</th>\n",
       "      <th>Underlying_Price</th>\n",
       "      <th>Quote_Time</th>\n",
       "      <th>Last_Trade_Date</th>\n",
       "      <th>JSON</th>\n",
       "    </tr>\n",
       "  </thead>\n",
       "  <tbody>\n",
       "    <tr>\n",
       "      <th>5</th>\n",
       "      <td>70.0</td>\n",
       "      <td>2022-01-21</td>\n",
       "      <td>put</td>\n",
       "      <td>MSFT220121P00070000</td>\n",
       "      <td>0.18</td>\n",
       "      <td>0.12</td>\n",
       "      <td>0.18</td>\n",
       "      <td>...</td>\n",
       "      <td>MSFT</td>\n",
       "      <td>False</td>\n",
       "      <td>MSFT</td>\n",
       "      <td>252.46</td>\n",
       "      <td>2021-05-07 20:00:02</td>\n",
       "      <td>2021-05-06 18:49:14</td>\n",
       "      <td>{'contractSymbol': 'MSFT220121P00070000', 'str...</td>\n",
       "    </tr>\n",
       "    <tr>\n",
       "      <th>9</th>\n",
       "      <td>75.0</td>\n",
       "      <td>2022-01-21</td>\n",
       "      <td>put</td>\n",
       "      <td>MSFT220121P00075000</td>\n",
       "      <td>0.20</td>\n",
       "      <td>0.16</td>\n",
       "      <td>0.23</td>\n",
       "      <td>...</td>\n",
       "      <td>MSFT</td>\n",
       "      <td>False</td>\n",
       "      <td>MSFT</td>\n",
       "      <td>252.46</td>\n",
       "      <td>2021-05-07 20:00:02</td>\n",
       "      <td>2021-05-07 19:50:32</td>\n",
       "      <td>{'contractSymbol': 'MSFT220121P00075000', 'str...</td>\n",
       "    </tr>\n",
       "    <tr>\n",
       "      <th>13</th>\n",
       "      <td>80.0</td>\n",
       "      <td>2022-01-21</td>\n",
       "      <td>put</td>\n",
       "      <td>MSFT220121P00080000</td>\n",
       "      <td>0.26</td>\n",
       "      <td>0.19</td>\n",
       "      <td>0.27</td>\n",
       "      <td>...</td>\n",
       "      <td>MSFT</td>\n",
       "      <td>False</td>\n",
       "      <td>MSFT</td>\n",
       "      <td>252.46</td>\n",
       "      <td>2021-05-07 20:00:02</td>\n",
       "      <td>2021-05-07 19:57:16</td>\n",
       "      <td>{'contractSymbol': 'MSFT220121P00080000', 'str...</td>\n",
       "    </tr>\n",
       "  </tbody>\n",
       "</table>\n",
       "<p>3 rows × 19 columns</p>\n",
       "</div>"
      ],
      "text/plain": [
       "    Strike     Expiry Type               Symbol  Last   Bid   Ask  ...  \\\n",
       "5     70.0 2022-01-21  put  MSFT220121P00070000  0.18  0.12  0.18  ...   \n",
       "9     75.0 2022-01-21  put  MSFT220121P00075000  0.20  0.16  0.23  ...   \n",
       "13    80.0 2022-01-21  put  MSFT220121P00080000  0.26  0.19  0.27  ...   \n",
       "\n",
       "    Root  IsNonstandard  Underlying  Underlying_Price          Quote_Time  \\\n",
       "5   MSFT          False        MSFT            252.46 2021-05-07 20:00:02   \n",
       "9   MSFT          False        MSFT            252.46 2021-05-07 20:00:02   \n",
       "13  MSFT          False        MSFT            252.46 2021-05-07 20:00:02   \n",
       "\n",
       "       Last_Trade_Date                                               JSON  \n",
       "5  2021-05-06 18:49:14  {'contractSymbol': 'MSFT220121P00070000', 'str...  \n",
       "9  2021-05-07 19:50:32  {'contractSymbol': 'MSFT220121P00075000', 'str...  \n",
       "13 2021-05-07 19:57:16  {'contractSymbol': 'MSFT220121P00080000', 'str...  \n",
       "\n",
       "[3 rows x 19 columns]"
      ]
     },
     "execution_count": 17,
     "metadata": {},
     "output_type": "execute_result"
    }
   ],
   "source": [
    "micro = web.YahooOptions('MSFT')\n",
    "micro_opt = micro.get_all_data().reset_index()\n",
    "micro_opt.set_index('Expiry').sort_index().head(3)\n",
    "put = micro_opt.loc[(micro_opt.Expiry== '2022-01-21') & (micro_opt.Type=='put')]\n",
    "put.head(3)"
   ]
  },
  {
   "cell_type": "code",
   "execution_count": 18,
   "metadata": {},
   "outputs": [
    {
     "data": {
      "image/png": "[encoded data removed]",
      "text/plain": [
       "<Figure size 288x216 with 1 Axes>"
      ]
     },
     "metadata": {
      "needs_background": "light"
     },
     "output_type": "display_data"
    }
   ],
   "source": [
    "#\n",
    "#Volatility smile:\n",
    "ax = put.set_index('Strike').loc[:, 'IV'].plot(figsize=(4,3),color=\"deeppink\",lw=3)\n",
    "ax.axvline(put.Underlying_Price.iloc[0], lw=3);"
   ]
  },
  {
   "cell_type": "code",
   "execution_count": 19,
   "metadata": {},
   "outputs": [
    {
     "data": {
      "text/plain": [
       "{'contractSymbol': 'MSFT210917P00250000',\n",
       " 'strike': 250.0,\n",
       " 'currency': 'USD',\n",
       " 'lastPrice': 12.9,\n",
       " 'change': -3.2000008,\n",
       " 'percentChange': -19.875782,\n",
       " 'volume': 74,\n",
       " 'openInterest': 0,\n",
       " 'bid': 12.85,\n",
       " 'ask': 13.45,\n",
       " 'contractSize': 'REGULAR',\n",
       " 'expiration': 1631836800,\n",
       " 'lastTradeDate': 1620416223,\n",
       " 'impliedVolatility': 0.2423781817626953,\n",
       " 'inTheMoney': False}"
      ]
     },
     "execution_count": 19,
     "metadata": {},
     "output_type": "execute_result"
    }
   ],
   "source": [
    "opt_deseada = micro_opt.loc[(micro_opt.Type=='put') & (micro_opt.Strike==250) & (micro_opt.Expiry=='2021-09-17')]\n",
    "#opt_deseada\n",
    "opt_valuar = opt_deseada.loc[list(opt_deseada.index)[0]]\n",
    "opt_valuar['JSON']"
   ]
  },
  {
   "cell_type": "code",
   "execution_count": 20,
   "metadata": {},
   "outputs": [
    {
     "data": {
      "image/png": "[encoded data removed]",
      "text/plain": [
       "<Figure size 288x216 with 1 Axes>"
      ]
     },
     "metadata": {
      "needs_background": "light"
     },
     "output_type": "display_data"
    },
    {
     "data": {
      "image/png": "[encoded data removed]",
      "text/plain": [
       "<Figure size 288x216 with 1 Axes>"
      ]
     },
     "metadata": {
      "needs_background": "light"
     },
     "output_type": "display_data"
    }
   ],
   "source": [
    "# Datos de la opción y del día de actual\n",
    "from datetime import date\n",
    "today = pd.Timestamp(date.today())\n",
    "expiry = opt_valuar.Expiry\n",
    "# Fechas desde el día de hoy hasta la fecha de cierre del contrato (considerando unicamente los días hábiles)\n",
    "dates = pd.date_range(start=today, end=expiry, freq='B')\n",
    "# Cantidad de escenarios a simular para el método de montecarlo\n",
    "ndays = len(dates)\n",
    "nscen = 10000\n",
    "K = opt_valuar.Strike\n",
    "S0 = closes_micro.iloc[-1]\n",
    "sim_ret = pd.DataFrame(sigma*np.random.randn(ndays,nscen)+r,index=dates)\n",
    "sim_closes = S0*np.exp(sim_ret.cumsum())\n",
    "\n",
    "#____Valuación de la opción baśandonos en la función de pago correspondiente (Europea)____:\n",
    "strike = K\n",
    "put_=pd.DataFrame({'Prima':np.exp(-r*ndays)*np.fmax(sim_closes - strike,0).mean(axis=1)},index=dates)\n",
    "put_.plot(figsize=(4,3));\n",
    "#__________HISTOGRAMA DE RENDIMIENTOS_____________:\n",
    "\n",
    "# Centro mis datos en mi tasa libre de riesgo\n",
    "freq, values = np.histogram(ret_micro-mu+r, bins=10000)\n",
    "# freq = freq.astype('float32')\n",
    "prob = freq/np.sum(freq)\n",
    "#\n",
    "# Datos de la opción y del día de actual\n",
    "today = pd.Timestamp(date.today())\n",
    "expiry = opt_valuar.Expiry\n",
    "# Fechas desde el día de hoy hasta la fecha de cierre del contrato (considerando unicamente los días hábiles)\n",
    "dates = pd.date_range(start=today, end=expiry, freq='B')\n",
    "# Cantidad de escenarios a simular para el método de montecarlo\n",
    "ndays = len(dates)\n",
    "nscen = 10000\n",
    "K = opt_valuar.Strike\n",
    "S0 = closes_micro.iloc[-1]\n",
    "ret = np.random.choice(values[1:], (ndays,nscen), p=prob)\n",
    "sim_ret_hist = pd.DataFrame(ret, index=dates)\n",
    "sim_closes_hist = S0*np.exp(sim_ret_hist.cumsum())\n",
    "#\n",
    "strike = pd.DataFrame(K*np.ones([ndays,nscen]),index=dates)\n",
    "put_hist=pd.DataFrame({'Prima':np.exp(-r*ndays)*np.fmax(sim_closes_hist-strike,np.zeros([ndays,nscen])).T.mean()},index=dates)\n",
    "put_hist.plot(figsize=(4,3));"
   ]
  },
  {
   "cell_type": "code",
   "execution_count": 22,
   "metadata": {},
   "outputs": [
    {
     "data": {
      "text/plain": [
       "12.9"
      ]
     },
     "execution_count": 22,
     "metadata": {},
     "output_type": "execute_result"
    }
   ],
   "source": [
    "opt_valuar['JSON']['lastPrice']"
   ]
  },
  {
   "cell_type": "code",
   "execution_count": 23,
   "metadata": {},
   "outputs": [
    {
     "data": {
      "text/plain": [
       "252.46"
      ]
     },
     "execution_count": 23,
     "metadata": {},
     "output_type": "execute_result"
    }
   ],
   "source": [
    "# Datos de la opción y del día de actual\n",
    "from datetime import date\n",
    "today = pd.Timestamp(date.today())\n",
    "expiry = opt_valuar.Expiry\n",
    "# Fechas desde el día de hoy hasta la fecha de cierre del contrato (considerando unicamente los días hábiles)\n",
    "dates = pd.date_range(start=today, end=expiry, freq='B')\n",
    "# Cantidad de escenarios a simular para el método de montecarlo\n",
    "ndays = len(dates)\n",
    "nscen = 10000\n",
    "K = opt_valuar.Strike\n",
    "S0 = closes_micro.iloc[-1]\n",
    "sim_ret = pd.DataFrame(sigma*np.random.randn(ndays,nscen)+r,index=dates)\n",
    "sim_closes = S0*np.exp(sim_ret.cumsum())\n",
    "opt_valuar.Underlying_Price"
   ]
  },
  {
   "cell_type": "code",
   "execution_count": 24,
   "metadata": {},
   "outputs": [
    {
     "data": {
      "image/png": "[encoded data removed]",
      "text/plain": [
       "<Figure size 288x216 with 1 Axes>"
      ]
     },
     "metadata": {
      "needs_background": "light"
     },
     "output_type": "display_data"
    }
   ],
   "source": [
    "# Definir barrera\n",
    "B = 260\n",
    "# Crear función indicadora\n",
    "I = (sim_closes < B).cumsum(axis=0) > 0\n",
    "# Definir strike\n",
    "strike = K\n",
    "# Calcular la prima de una opción Europea\n",
    "put = pd.DataFrame({'Prima Europea':np.exp(-r*ndays)*np.fmax(sim_closes - strike, 0)\n",
    "                     .mean(axis=1)},index=dates)\n",
    "# Calcular la prima de una opción barrera\n",
    "put_ = pd.DataFrame({'Prima up-and-in':np.exp(-r*ndays)*(I * np.fmax(sim_closes - strike, 0))\n",
    "                       .mean(axis=1)},index=dates)\n",
    "# Graficar el resultado de las dos primas previamente valuadas\n",
    "ax = put_.plot(figsize=(4,3));\n",
    "put.plot(ax=ax);"
   ]
  },
  {
   "cell_type": "code",
   "execution_count": 25,
   "metadata": {},
   "outputs": [],
   "source": [
    "###"
   ]
  },
  {
   "cell_type": "code",
   "execution_count": 26,
   "metadata": {},
   "outputs": [
    {
     "data": {
      "text/plain": [
       "(Prima Europea    30.618\n",
       " Name: 2022-01-21 00:00:00, dtype: float64,\n",
       " Prima down-and-out    30.034\n",
       " Name: 2022-01-21 00:00:00, dtype: float64)"
      ]
     },
     "execution_count": 26,
     "metadata": {},
     "output_type": "execute_result"
    }
   ],
   "source": [
    "call.iloc[-1],callui.iloc[-1]"
   ]
  },
  {
   "cell_type": "code",
   "execution_count": 27,
   "metadata": {},
   "outputs": [
    {
     "data": {
      "text/plain": [
       "(Prima Europea    20.987\n",
       " Name: 2021-09-17 00:00:00, dtype: float64,\n",
       " Prima up-and-in    20.629\n",
       " Name: 2021-09-17 00:00:00, dtype: float64)"
      ]
     },
     "execution_count": 27,
     "metadata": {},
     "output_type": "execute_result"
    }
   ],
   "source": [
    "put.iloc[-1],put_.iloc[-1]"
   ]
  },
  {
   "cell_type": "markdown",
   "metadata": {},
   "source": [
    "**conclusión:** La barrera disminuye el precio de la prima."
   ]
  }
 ],
 "metadata": {
  "kernelspec": {
   "display_name": "Python 3",
   "language": "python",
   "name": "python3"
  },
  "language_info": {
   "codemirror_mode": {
    "name": "ipython",
    "version": 3
   },
   "file_extension": ".py",
   "mimetype": "text/x-python",
   "name": "python",
   "nbconvert_exporter": "python",
   "pygments_lexer": "ipython3",
   "version": "3.8.5"
  }
 },
 "nbformat": 4,
 "nbformat_minor": 4
}
