{
 "cells": [
  {
   "cell_type": "markdown",
   "metadata": {},
   "source": [
    "<img style=\"float: left; margin: 30px 15px 15px 15px;\" src=\"https://pngimage.net/wp-content/uploads/2018/06/logo-iteso-png-5.png\" width=\"300\" height=\"500\" /> \n",
    "    \n",
    "    \n",
    "### <font color='navy'> Simulación de procesos financieros. \n",
    "\n",
    "**Nombres:** <span style=\"color:blue\"> Andrés Lares Barragán</span> | <span style=\"color:green\"> Ivette Landaverde Mercado</span>\n",
    "\n",
    "**Fecha:**  28 de abril del 2021.  \n",
    "\n",
    "**Expediente** : <span style=\"color:blue\"> 724055 </span> | <span style=\"color:green\"> 722626 </span>\n",
    "\n",
    "**Profesor:** Oscar David Jaramillo Zuluaga.\n",
    "\n",
    "# Tarea 9: Clase 22\n",
    "    \n",
    "### [link de repositorio GitHub](https://github.com/AndresLaresBarragan/ProyectoConjunto_ALares_ILandaverde)"
   ]
  },
  {
   "cell_type": "markdown",
   "metadata": {},
   "source": [
    "**Replicar el procedimiento para valoración de opciones 'call', pero en este caso para opciones tipo 'put'.**"
   ]
  },
  {
   "cell_type": "markdown",
   "metadata": {},
   "source": [
    "Recordando:\n",
    "> Hay un principio general conocido como valoración neutral al riesgo, el cual establece que cualquier título que depende de otros títulos negociados puede valorarse bajo el supuesto de que el mundo es neutral al riesgo. El resultado demuestra ser muy útil en la práctica. *En un mundo neutral al riesgo, el rendimiento esperado de todos los títulos es la tasa de interés libre de riesgo*, y la tasa de descuento correcta para los flujos de efectivo esperados también es la tasa de interés libre de riesgo.\n",
    "\n",
    " > **El equivalente a la función de Black-Scholes se puede demostrar que es:**\n",
    " \n",
    "> $$\\large{\n",
    " \\text{Valor actual de la opción} = V(S_0, T) = E^*(e^{-rT}  f(S_T)) = e^{-rT} E^*(f(S_T))}\n",
    "$$\n",
    "\n",
    "> **donde $f(S_T)$ representa la función de pago de la opción, que para el caso de una opción de venta es:**\n",
    "\n",
    "$$\\large{P(S(t),t)=max\\{K-S(T),0\\}}$$"
   ]
  },
  {
   "cell_type": "markdown",
   "metadata": {},
   "source": [
    "### <span style=\"color:red\"> Librerías:</span>"
   ]
  },
  {
   "cell_type": "code",
   "execution_count": 1,
   "metadata": {},
   "outputs": [],
   "source": [
    "#importar los paquetes que se van a usar\n",
    "import pandas as pd\n",
    "import pandas_datareader.data as web\n",
    "import numpy as np\n",
    "import datetime\n",
    "import matplotlib.pyplot as plt\n",
    "import scipy.stats as st\n",
    "import seaborn as sns\n",
    "%matplotlib inline\n",
    "from scipy.stats import norm\n",
    "#algunas opciones para Pandas\n",
    "pd.set_option('display.notebook_repr_html', True)\n",
    "pd.set_option('display.max_columns', 6)\n",
    "pd.set_option('display.max_rows', 10)\n",
    "pd.set_option('display.width', 78)\n",
    "pd.set_option('precision', 3)\n",
    "from datetime import date"
   ]
  },
  {
   "cell_type": "markdown",
   "metadata": {},
   "source": [
    "### <span style=\"color:red\"> Funciones:</span>"
   ]
  },
  {
   "cell_type": "code",
   "execution_count": 3,
   "metadata": {},
   "outputs": [],
   "source": [
    "# Función para descargar precios de cierre ajustados:\n",
    "def get_adj_closes(tickers, start_date=None, end_date=None):\n",
    "    # Fecha inicio por defecto (start_date='2010-01-01') y fecha fin por defecto (end_date=today)\n",
    "    # Descargamos DataFrame con todos los datos\n",
    "    closes = web.DataReader(name=tickers, data_source='yahoo', start=start_date, end=end_date)\n",
    "    # Solo necesitamos los precios ajustados en el cierre\n",
    "    closes = closes['Adj Close']\n",
    "    # Se ordenan los índices de manera ascendente\n",
    "    closes.sort_index(inplace=True)\n",
    "    return closes\n",
    "\n",
    "#Función que regresa rendimientos logarítmicos:\n",
    "def calc_daily_ret(closes):\n",
    "    return np.log(closes/closes.shift(1)).iloc[1:]"
   ]
  },
  {
   "cell_type": "markdown",
   "metadata": {},
   "source": [
    "### <span style=\"color:blue\"> Andrés Lares Barragán:</span>"
   ]
  },
  {
   "cell_type": "code",
   "execution_count": null,
   "metadata": {},
   "outputs": [],
   "source": [
    "# Solución"
   ]
  },
  {
   "cell_type": "markdown",
   "metadata": {},
   "source": [
    "### <span style=\"color:green\"> Ivette Landaverde Mercado: </span>"
   ]
  },
  {
   "cell_type": "code",
   "execution_count": 1,
   "metadata": {},
   "outputs": [],
   "source": [
    "# Solución "
   ]
  },
  {
   "cell_type": "code",
   "execution_count": 7,
   "metadata": {},
   "outputs": [
    {
     "data": {
      "text/html": [
       "<div>\n",
       "<style scoped>\n",
       "    .dataframe tbody tr th:only-of-type {\n",
       "        vertical-align: middle;\n",
       "    }\n",
       "\n",
       "    .dataframe tbody tr th {\n",
       "        vertical-align: top;\n",
       "    }\n",
       "\n",
       "    .dataframe thead th {\n",
       "        text-align: right;\n",
       "    }\n",
       "</style>\n",
       "<table border=\"1\" class=\"dataframe\">\n",
       "  <thead>\n",
       "    <tr style=\"text-align: right;\">\n",
       "      <th></th>\n",
       "      <th>Strike</th>\n",
       "      <th>Type</th>\n",
       "      <th>Symbol</th>\n",
       "      <th>...</th>\n",
       "      <th>Quote_Time</th>\n",
       "      <th>Last_Trade_Date</th>\n",
       "      <th>JSON</th>\n",
       "    </tr>\n",
       "    <tr>\n",
       "      <th>Expiry</th>\n",
       "      <th></th>\n",
       "      <th></th>\n",
       "      <th></th>\n",
       "      <th></th>\n",
       "      <th></th>\n",
       "      <th></th>\n",
       "      <th></th>\n",
       "    </tr>\n",
       "  </thead>\n",
       "  <tbody>\n",
       "    <tr>\n",
       "      <th>2021-04-30</th>\n",
       "      <td>752.5</td>\n",
       "      <td>call</td>\n",
       "      <td>TSLA210430C00752500</td>\n",
       "      <td>...</td>\n",
       "      <td>2021-04-28 19:13:25</td>\n",
       "      <td>2021-04-28 18:46:18</td>\n",
       "      <td>{'contractSymbol': 'TSLA210430C00752500', 'str...</td>\n",
       "    </tr>\n",
       "    <tr>\n",
       "      <th>2021-04-30</th>\n",
       "      <td>550.0</td>\n",
       "      <td>call</td>\n",
       "      <td>TSLA210430C00550000</td>\n",
       "      <td>...</td>\n",
       "      <td>2021-04-28 19:13:25</td>\n",
       "      <td>2021-04-28 14:32:08</td>\n",
       "      <td>{'contractSymbol': 'TSLA210430C00550000', 'str...</td>\n",
       "    </tr>\n",
       "    <tr>\n",
       "      <th>2021-04-30</th>\n",
       "      <td>550.0</td>\n",
       "      <td>put</td>\n",
       "      <td>TSLA210430P00550000</td>\n",
       "      <td>...</td>\n",
       "      <td>2021-04-28 19:13:25</td>\n",
       "      <td>2021-04-28 18:48:03</td>\n",
       "      <td>{'contractSymbol': 'TSLA210430P00550000', 'str...</td>\n",
       "    </tr>\n",
       "    <tr>\n",
       "      <th>2021-04-30</th>\n",
       "      <td>805.0</td>\n",
       "      <td>put</td>\n",
       "      <td>TSLA210430P00805000</td>\n",
       "      <td>...</td>\n",
       "      <td>2021-04-28 19:13:25</td>\n",
       "      <td>2021-04-27 18:26:27</td>\n",
       "      <td>{'contractSymbol': 'TSLA210430P00805000', 'str...</td>\n",
       "    </tr>\n",
       "    <tr>\n",
       "      <th>2021-04-30</th>\n",
       "      <td>560.0</td>\n",
       "      <td>call</td>\n",
       "      <td>TSLA210430C00560000</td>\n",
       "      <td>...</td>\n",
       "      <td>2021-04-28 19:13:25</td>\n",
       "      <td>2021-04-28 15:29:44</td>\n",
       "      <td>{'contractSymbol': 'TSLA210430C00560000', 'str...</td>\n",
       "    </tr>\n",
       "    <tr>\n",
       "      <th>...</th>\n",
       "      <td>...</td>\n",
       "      <td>...</td>\n",
       "      <td>...</td>\n",
       "      <td>...</td>\n",
       "      <td>...</td>\n",
       "      <td>...</td>\n",
       "      <td>...</td>\n",
       "    </tr>\n",
       "    <tr>\n",
       "      <th>2023-03-17</th>\n",
       "      <td>1300.0</td>\n",
       "      <td>call</td>\n",
       "      <td>TSLA230317C01300000</td>\n",
       "      <td>...</td>\n",
       "      <td>2021-04-28 19:13:28</td>\n",
       "      <td>2021-04-27 19:41:15</td>\n",
       "      <td>{'contractSymbol': 'TSLA230317C01300000', 'str...</td>\n",
       "    </tr>\n",
       "    <tr>\n",
       "      <th>2023-03-17</th>\n",
       "      <td>850.0</td>\n",
       "      <td>put</td>\n",
       "      <td>TSLA230317P00850000</td>\n",
       "      <td>...</td>\n",
       "      <td>2021-04-28 19:13:28</td>\n",
       "      <td>2021-04-28 18:37:27</td>\n",
       "      <td>{'contractSymbol': 'TSLA230317P00850000', 'str...</td>\n",
       "    </tr>\n",
       "    <tr>\n",
       "      <th>2023-03-17</th>\n",
       "      <td>850.0</td>\n",
       "      <td>call</td>\n",
       "      <td>TSLA230317C00850000</td>\n",
       "      <td>...</td>\n",
       "      <td>2021-04-28 19:13:28</td>\n",
       "      <td>2021-04-28 18:41:35</td>\n",
       "      <td>{'contractSymbol': 'TSLA230317C00850000', 'str...</td>\n",
       "    </tr>\n",
       "    <tr>\n",
       "      <th>2023-03-17</th>\n",
       "      <td>600.0</td>\n",
       "      <td>put</td>\n",
       "      <td>TSLA230317P00600000</td>\n",
       "      <td>...</td>\n",
       "      <td>2021-04-28 19:13:28</td>\n",
       "      <td>2021-04-28 18:37:27</td>\n",
       "      <td>{'contractSymbol': 'TSLA230317P00600000', 'str...</td>\n",
       "    </tr>\n",
       "    <tr>\n",
       "      <th>2023-03-17</th>\n",
       "      <td>1675.0</td>\n",
       "      <td>call</td>\n",
       "      <td>TSLA230317C01675000</td>\n",
       "      <td>...</td>\n",
       "      <td>2021-04-28 19:13:28</td>\n",
       "      <td>2021-04-23 17:44:49</td>\n",
       "      <td>{'contractSymbol': 'TSLA230317C01675000', 'str...</td>\n",
       "    </tr>\n",
       "  </tbody>\n",
       "</table>\n",
       "<p>6932 rows × 18 columns</p>\n",
       "</div>"
      ],
      "text/plain": [
       "            Strike  Type               Symbol  ...          Quote_Time  \\\n",
       "Expiry                                         ...                       \n",
       "2021-04-30   752.5  call  TSLA210430C00752500  ... 2021-04-28 19:13:25   \n",
       "2021-04-30   550.0  call  TSLA210430C00550000  ... 2021-04-28 19:13:25   \n",
       "2021-04-30   550.0   put  TSLA210430P00550000  ... 2021-04-28 19:13:25   \n",
       "2021-04-30   805.0   put  TSLA210430P00805000  ... 2021-04-28 19:13:25   \n",
       "2021-04-30   560.0  call  TSLA210430C00560000  ... 2021-04-28 19:13:25   \n",
       "...            ...   ...                  ...  ...                 ...   \n",
       "2023-03-17  1300.0  call  TSLA230317C01300000  ... 2021-04-28 19:13:28   \n",
       "2023-03-17   850.0   put  TSLA230317P00850000  ... 2021-04-28 19:13:28   \n",
       "2023-03-17   850.0  call  TSLA230317C00850000  ... 2021-04-28 19:13:28   \n",
       "2023-03-17   600.0   put  TSLA230317P00600000  ... 2021-04-28 19:13:28   \n",
       "2023-03-17  1675.0  call  TSLA230317C01675000  ... 2021-04-28 19:13:28   \n",
       "\n",
       "               Last_Trade_Date  \\\n",
       "Expiry                           \n",
       "2021-04-30 2021-04-28 18:46:18   \n",
       "2021-04-30 2021-04-28 14:32:08   \n",
       "2021-04-30 2021-04-28 18:48:03   \n",
       "2021-04-30 2021-04-27 18:26:27   \n",
       "2021-04-30 2021-04-28 15:29:44   \n",
       "...                        ...   \n",
       "2023-03-17 2021-04-27 19:41:15   \n",
       "2023-03-17 2021-04-28 18:37:27   \n",
       "2023-03-17 2021-04-28 18:41:35   \n",
       "2023-03-17 2021-04-28 18:37:27   \n",
       "2023-03-17 2021-04-23 17:44:49   \n",
       "\n",
       "                                                         JSON  \n",
       "Expiry                                                         \n",
       "2021-04-30  {'contractSymbol': 'TSLA210430C00752500', 'str...  \n",
       "2021-04-30  {'contractSymbol': 'TSLA210430C00550000', 'str...  \n",
       "2021-04-30  {'contractSymbol': 'TSLA210430P00550000', 'str...  \n",
       "2021-04-30  {'contractSymbol': 'TSLA210430P00805000', 'str...  \n",
       "2021-04-30  {'contractSymbol': 'TSLA210430C00560000', 'str...  \n",
       "...                                                       ...  \n",
       "2023-03-17  {'contractSymbol': 'TSLA230317C01300000', 'str...  \n",
       "2023-03-17  {'contractSymbol': 'TSLA230317P00850000', 'str...  \n",
       "2023-03-17  {'contractSymbol': 'TSLA230317C00850000', 'str...  \n",
       "2023-03-17  {'contractSymbol': 'TSLA230317P00600000', 'str...  \n",
       "2023-03-17  {'contractSymbol': 'TSLA230317C01675000', 'str...  \n",
       "\n",
       "[6932 rows x 18 columns]"
      ]
     },
     "execution_count": 7,
     "metadata": {},
     "output_type": "execute_result"
    }
   ],
   "source": [
    "#Algunos datos:\n",
    "tickers = [\"tsla\"]\n",
    "r = 0.007/360\n",
    "fr = 360*r\n",
    "##\n",
    "tesla = web.YahooOptions('tsla')\n",
    "tesla_opt = tesla.get_all_data().reset_index()\n",
    "tesla_opt.set_index('Expiry').sort_index()"
   ]
  },
  {
   "cell_type": "code",
   "execution_count": 8,
   "metadata": {},
   "outputs": [
    {
     "name": "stdout",
     "output_type": "stream",
     "text": [
      "Precio activo actual: 696.1519\n"
     ]
    }
   ],
   "source": [
    "print(\"Precio activo actual:\",tesla_opt.Underlying_Price[0])"
   ]
  },
  {
   "cell_type": "code",
   "execution_count": 9,
   "metadata": {},
   "outputs": [],
   "source": [
    "p = tesla_opt.Underlying_Price[0]"
   ]
  },
  {
   "cell_type": "code",
   "execution_count": 10,
   "metadata": {},
   "outputs": [
    {
     "data": {
      "image/png": "[encoded data removed]",
      "text/plain": [
       "<Figure size 360x216 with 1 Axes>"
      ]
     },
     "metadata": {
      "needs_background": "light"
     },
     "output_type": "display_data"
    }
   ],
   "source": [
    "ticker = ['tsla']\n",
    "start_date = '2017-01-01'\n",
    "closes_tesla = get_adj_closes(ticker, start_date)\n",
    "closes_tesla.plot(figsize=(5,3));\n",
    "plt.legend(ticker);"
   ]
  },
  {
   "cell_type": "code",
   "execution_count": 11,
   "metadata": {},
   "outputs": [
    {
     "data": {
      "image/png": "[encoded data removed]",
      "text/plain": [
       "<Figure size 360x288 with 1 Axes>"
      ]
     },
     "metadata": {
      "needs_background": "light"
     },
     "output_type": "display_data"
    }
   ],
   "source": [
    "#Graficar rendimientos logarítmicos:\n",
    "ret_tesla = calc_daily_ret(closes_tesla)\n",
    "ret_tesla.plot(figsize=(5,4));"
   ]
  },
  {
   "cell_type": "code",
   "execution_count": 12,
   "metadata": {},
   "outputs": [
    {
     "data": {
      "text/html": [
       "<div>\n",
       "<style scoped>\n",
       "    .dataframe tbody tr th:only-of-type {\n",
       "        vertical-align: middle;\n",
       "    }\n",
       "\n",
       "    .dataframe tbody tr th {\n",
       "        vertical-align: top;\n",
       "    }\n",
       "\n",
       "    .dataframe thead th {\n",
       "        text-align: right;\n",
       "    }\n",
       "</style>\n",
       "<table border=\"1\" class=\"dataframe\">\n",
       "  <thead>\n",
       "    <tr style=\"text-align: right;\">\n",
       "      <th></th>\n",
       "      <th>Strike</th>\n",
       "      <th>Expiry</th>\n",
       "      <th>Type</th>\n",
       "      <th>...</th>\n",
       "      <th>Quote_Time</th>\n",
       "      <th>Last_Trade_Date</th>\n",
       "      <th>JSON</th>\n",
       "    </tr>\n",
       "  </thead>\n",
       "  <tbody>\n",
       "    <tr>\n",
       "      <th>3821</th>\n",
       "      <td>700.0</td>\n",
       "      <td>2022-09-16</td>\n",
       "      <td>put</td>\n",
       "      <td>...</td>\n",
       "      <td>2021-04-28 19:13:25</td>\n",
       "      <td>2021-04-28 13:58:42</td>\n",
       "      <td>{'contractSymbol': 'TSLA220916P00700000', 'str...</td>\n",
       "    </tr>\n",
       "  </tbody>\n",
       "</table>\n",
       "<p>1 rows × 19 columns</p>\n",
       "</div>"
      ],
      "text/plain": [
       "      Strike     Expiry Type  ...          Quote_Time     Last_Trade_Date  \\\n",
       "3821   700.0 2022-09-16  put  ... 2021-04-28 19:13:25 2021-04-28 13:58:42   \n",
       "\n",
       "                                                   JSON  \n",
       "3821  {'contractSymbol': 'TSLA220916P00700000', 'str...  \n",
       "\n",
       "[1 rows x 19 columns]"
      ]
     },
     "execution_count": 12,
     "metadata": {},
     "output_type": "execute_result"
    }
   ],
   "source": [
    "k = 700 \n",
    "fecha = '2022-09-16'\n",
    "indice_opt = tesla_opt.loc[(tesla_opt.Type=='put') & (tesla_opt.Strike==k) & (tesla_opt.Expiry==fecha)]\n",
    "indice_opt"
   ]
  },
  {
   "cell_type": "code",
   "execution_count": 13,
   "metadata": {},
   "outputs": [
    {
     "data": {
      "text/plain": [
       "{'contractSymbol': 'TSLA220916P00700000',\n",
       " 'strike': 700.0,\n",
       " 'currency': 'USD',\n",
       " 'lastPrice': 209.23,\n",
       " 'change': -1.5299988,\n",
       " 'percentChange': -0.7259436,\n",
       " 'volume': 3,\n",
       " 'openInterest': 1029,\n",
       " 'bid': 208.15,\n",
       " 'ask': 211.25,\n",
       " 'contractSize': 'REGULAR',\n",
       " 'expiration': 1663286400,\n",
       " 'lastTradeDate': 1619618322,\n",
       " 'impliedVolatility': 0.6486622658538819,\n",
       " 'inTheMoney': True}"
      ]
     },
     "execution_count": 13,
     "metadata": {},
     "output_type": "execute_result"
    }
   ],
   "source": [
    "i_opt= indice_opt.index\n",
    "opcion_valuar = tesla_opt.loc[i_opt[0]]\n",
    "opcion_valuar['JSON']"
   ]
  },
  {
   "cell_type": "code",
   "execution_count": 14,
   "metadata": {},
   "outputs": [
    {
     "name": "stdout",
     "output_type": "stream",
     "text": [
      "Precio del activo subyacente actual =  696.1519\n"
     ]
    }
   ],
   "source": [
    "print('Precio del activo subyacente actual = ',opcion_valuar.Underlying_Price)"
   ]
  },
  {
   "cell_type": "markdown",
   "metadata": {},
   "source": [
    "### Simulación de precios usando rendimiento simple y logarítmico :"
   ]
  },
  {
   "cell_type": "code",
   "execution_count": 15,
   "metadata": {},
   "outputs": [
    {
     "data": {
      "text/html": [
       "<div>\n",
       "<style scoped>\n",
       "    .dataframe tbody tr th:only-of-type {\n",
       "        vertical-align: middle;\n",
       "    }\n",
       "\n",
       "    .dataframe tbody tr th {\n",
       "        vertical-align: top;\n",
       "    }\n",
       "\n",
       "    .dataframe thead th {\n",
       "        text-align: right;\n",
       "    }\n",
       "</style>\n",
       "<table border=\"1\" class=\"dataframe\">\n",
       "  <thead>\n",
       "    <tr style=\"text-align: right;\">\n",
       "      <th>Symbols</th>\n",
       "      <th>tsla</th>\n",
       "    </tr>\n",
       "    <tr>\n",
       "      <th>Date</th>\n",
       "      <th></th>\n",
       "    </tr>\n",
       "  </thead>\n",
       "  <tbody>\n",
       "    <tr>\n",
       "      <th>2017-01-04</th>\n",
       "      <td>0.046</td>\n",
       "    </tr>\n",
       "    <tr>\n",
       "      <th>2017-01-05</th>\n",
       "      <td>-0.001</td>\n",
       "    </tr>\n",
       "    <tr>\n",
       "      <th>2017-01-06</th>\n",
       "      <td>0.010</td>\n",
       "    </tr>\n",
       "  </tbody>\n",
       "</table>\n",
       "</div>"
      ],
      "text/plain": [
       "Symbols      tsla\n",
       "Date             \n",
       "2017-01-04  0.046\n",
       "2017-01-05 -0.001\n",
       "2017-01-06  0.010"
      ]
     },
     "execution_count": 15,
     "metadata": {},
     "output_type": "execute_result"
    }
   ],
   "source": [
    "# Rendimiento simple:\n",
    "Ri = closes_tesla.pct_change(1).iloc[1:]\n",
    "# Media y desviación estándar de los rendimientos:\n",
    "mu_R = Ri.mean()[0]\n",
    "sigma_R = Ri.std()[0]\n",
    "Ri.head(3)"
   ]
  },
  {
   "cell_type": "code",
   "execution_count": 16,
   "metadata": {},
   "outputs": [
    {
     "data": {
      "text/plain": [
       "363"
      ]
     },
     "execution_count": 16,
     "metadata": {},
     "output_type": "execute_result"
    }
   ],
   "source": [
    "today = pd.to_datetime(date.today())\n",
    "# Obtener fecha de cierre de la opción a valuar\n",
    "expiry = opcion_valuar.Expiry\n",
    "len(pd.date_range(today, expiry, freq='B'))"
   ]
  },
  {
   "cell_type": "code",
   "execution_count": 17,
   "metadata": {},
   "outputs": [],
   "source": [
    "# Encontrar la fecha de hoy en fomato timestamp\n",
    "today = pd.to_datetime(date.today())\n",
    "# Obtener fecha de cierre de la opción a valuar\n",
    "expiry = opcion_valuar.Expiry\n",
    "nscen = 10000\n",
    "# Generar rangos de fechas de días hábiles\n",
    "dates = pd.date_range(today, expiry, freq='B')\n",
    "ndays = len(dates)"
   ]
  },
  {
   "cell_type": "code",
   "execution_count": 18,
   "metadata": {},
   "outputs": [
    {
     "data": {
      "text/html": [
       "<div>\n",
       "<style scoped>\n",
       "    .dataframe tbody tr th:only-of-type {\n",
       "        vertical-align: middle;\n",
       "    }\n",
       "\n",
       "    .dataframe tbody tr th {\n",
       "        vertical-align: top;\n",
       "    }\n",
       "\n",
       "    .dataframe thead th {\n",
       "        text-align: right;\n",
       "    }\n",
       "</style>\n",
       "<table border=\"1\" class=\"dataframe\">\n",
       "  <thead>\n",
       "    <tr style=\"text-align: right;\">\n",
       "      <th></th>\n",
       "      <th>0</th>\n",
       "      <th>1</th>\n",
       "      <th>2</th>\n",
       "      <th>...</th>\n",
       "      <th>9997</th>\n",
       "      <th>9998</th>\n",
       "      <th>9999</th>\n",
       "    </tr>\n",
       "  </thead>\n",
       "  <tbody>\n",
       "    <tr>\n",
       "      <th>2021-04-28</th>\n",
       "      <td>-0.054</td>\n",
       "      <td>0.040</td>\n",
       "      <td>0.030</td>\n",
       "      <td>...</td>\n",
       "      <td>-0.084</td>\n",
       "      <td>-0.033</td>\n",
       "      <td>0.023</td>\n",
       "    </tr>\n",
       "    <tr>\n",
       "      <th>2021-04-29</th>\n",
       "      <td>-0.005</td>\n",
       "      <td>0.004</td>\n",
       "      <td>0.042</td>\n",
       "      <td>...</td>\n",
       "      <td>0.017</td>\n",
       "      <td>-0.048</td>\n",
       "      <td>0.044</td>\n",
       "    </tr>\n",
       "    <tr>\n",
       "      <th>2021-04-30</th>\n",
       "      <td>0.046</td>\n",
       "      <td>0.016</td>\n",
       "      <td>0.010</td>\n",
       "      <td>...</td>\n",
       "      <td>-0.045</td>\n",
       "      <td>0.006</td>\n",
       "      <td>-0.017</td>\n",
       "    </tr>\n",
       "  </tbody>\n",
       "</table>\n",
       "<p>3 rows × 10000 columns</p>\n",
       "</div>"
      ],
      "text/plain": [
       "             0      1      2     ...   9997   9998   9999\n",
       "2021-04-28 -0.054  0.040  0.030  ... -0.084 -0.033  0.023\n",
       "2021-04-29 -0.005  0.004  0.042  ...  0.017 -0.048  0.044\n",
       "2021-04-30  0.046  0.016  0.010  ... -0.045  0.006 -0.017\n",
       "\n",
       "[3 rows x 10000 columns]"
      ]
     },
     "execution_count": 18,
     "metadata": {},
     "output_type": "execute_result"
    }
   ],
   "source": [
    "# Simular los rendimientos\n",
    "# Rendimiento diario \n",
    "dt = 1\n",
    "# Z ~ N(0,1) normal estándar (ndays, nscen)\n",
    "Z = np.random.randn(ndays, nscen)\n",
    "# Simulación normal de los rendimientos\n",
    "Ri_dt = pd.DataFrame(Z * sigma_R * np.sqrt(dt) + mu_R * dt, index=dates)\n",
    "Ri_dt.head(3)"
   ]
  },
  {
   "cell_type": "code",
   "execution_count": 19,
   "metadata": {},
   "outputs": [],
   "source": [
    "S0 = opcion_valuar.Underlying_Price\n",
    "S_T = S0*(Ri_dt + 1).cumprod()"
   ]
  },
  {
   "cell_type": "code",
   "execution_count": 20,
   "metadata": {},
   "outputs": [
    {
     "data": {
      "image/png": "[encoded data removed]",
      "text/plain": [
       "<Figure size 576x432 with 1 Axes>"
      ]
     },
     "metadata": {
      "needs_background": "light"
     },
     "output_type": "display_data"
    }
   ],
   "source": [
    "# Simulación del precio\n",
    "S_0 = opcion_valuar.Underlying_Price\n",
    "S_T = S_0*(1+Ri_dt).cumprod()\n",
    "S_T.iloc[0,:] = S_0\n",
    "# Se muestran los precios simulados con los precios descargados\n",
    "pd.concat([closes_tesla, S_T.iloc[:, :10]]).plot(figsize=(8,6));\n",
    "plt.title('Simulación de precios usando rendimiento simple');"
   ]
  },
  {
   "cell_type": "markdown",
   "metadata": {},
   "source": [
    "### Simulación con rendimiento logarítmico:"
   ]
  },
  {
   "cell_type": "code",
   "execution_count": 21,
   "metadata": {},
   "outputs": [
    {
     "data": {
      "text/plain": [
       "((363, 10000), 363)"
      ]
     },
     "execution_count": 21,
     "metadata": {},
     "output_type": "execute_result"
    }
   ],
   "source": [
    "Z.shape, len(dates)"
   ]
  },
  {
   "cell_type": "code",
   "execution_count": 22,
   "metadata": {},
   "outputs": [
    {
     "data": {
      "text/plain": [
       "822.5148267002309"
      ]
     },
     "execution_count": 22,
     "metadata": {},
     "output_type": "execute_result"
    }
   ],
   "source": [
    "# Calcular rendimiento logarítmico\n",
    "ri = calc_daily_ret(closes_tesla)\n",
    "# Usando la media y desviación estándar de los rendimientos logarítmicos\n",
    "mu_r = ri.mean()[0]\n",
    "sigma_r = ri.std()[0]\n",
    "# Simulación del rendimiento\n",
    "dt = 1\n",
    "Z = np.random.randn(ndays, nscen)\n",
    "sim_ret_ri = pd.DataFrame(mu_r * dt + Z * sigma_r * np.sqrt(dt), index=dates )\n",
    "# Simulación del precio\n",
    "S_0 = closes_tesla.iloc[-1,0]\n",
    "S_T2 = S_0*np.exp(sim_ret_ri.cumsum())\n",
    "\n",
    "# from sklearn.metrics import mean_absolute_error\n",
    "e1 = np.abs(S_T-S_T2).mean().mean()\n",
    "e1"
   ]
  },
  {
   "cell_type": "code",
   "execution_count": 23,
   "metadata": {},
   "outputs": [
    {
     "name": "stdout",
     "output_type": "stream",
     "text": [
      "Las std usando rendimientos logarítmicos y simples son similares\n"
     ]
    },
    {
     "data": {
      "text/plain": [
       "(0.03923000044026038, 0.03909351124211164)"
      ]
     },
     "execution_count": 23,
     "metadata": {},
     "output_type": "execute_result"
    }
   ],
   "source": [
    "print('Las std usando rendimientos logarítmicos y simples son similares')\n",
    "sigma_R,sigma_r"
   ]
  },
  {
   "cell_type": "markdown",
   "metadata": {},
   "source": [
    "### Con B&S:"
   ]
  },
  {
   "cell_type": "code",
   "execution_count": 24,
   "metadata": {},
   "outputs": [
    {
     "data": {
      "text/plain": [
       "(0.0025563401177608976, 0.03909351124211164)"
      ]
     },
     "execution_count": 24,
     "metadata": {},
     "output_type": "execute_result"
    }
   ],
   "source": [
    "mu = ret_tesla.mean()[0]\n",
    "sigma = ret_tesla.std()[0]\n",
    "mu, sigma"
   ]
  },
  {
   "cell_type": "code",
   "execution_count": 25,
   "metadata": {},
   "outputs": [],
   "source": [
    "# Tasa de bonos de 1 yr de fecha 21/04/2021 -> 7%\n",
    "r = 0.007/360 # Tasa diaria"
   ]
  },
  {
   "cell_type": "code",
   "execution_count": 26,
   "metadata": {},
   "outputs": [
    {
     "data": {
      "text/plain": [
       "DatetimeIndex(['2021-04-28', '2021-04-29', '2021-04-30', '2021-05-03',\n",
       "               '2021-05-04', '2021-05-05', '2021-05-06', '2021-05-07',\n",
       "               '2021-05-10', '2021-05-11',\n",
       "               ...\n",
       "               '2022-09-05', '2022-09-06', '2022-09-07', '2022-09-08',\n",
       "               '2022-09-09', '2022-09-12', '2022-09-13', '2022-09-14',\n",
       "               '2022-09-15', '2022-09-16'],\n",
       "              dtype='datetime64[ns]', length=363, freq='B')"
      ]
     },
     "execution_count": 26,
     "metadata": {},
     "output_type": "execute_result"
    }
   ],
   "source": [
    "today = pd.Timestamp(date.today())\n",
    "expiry = opcion_valuar.Expiry\n",
    "dates = pd.date_range(start=today, end=expiry, freq='B')\n",
    "ndays = len(dates)\n",
    "nscen = 10\n",
    "dates"
   ]
  },
  {
   "cell_type": "code",
   "execution_count": 27,
   "metadata": {},
   "outputs": [
    {
     "data": {
      "text/html": [
       "<div>\n",
       "<style scoped>\n",
       "    .dataframe tbody tr th:only-of-type {\n",
       "        vertical-align: middle;\n",
       "    }\n",
       "\n",
       "    .dataframe tbody tr th {\n",
       "        vertical-align: top;\n",
       "    }\n",
       "\n",
       "    .dataframe thead th {\n",
       "        text-align: right;\n",
       "    }\n",
       "</style>\n",
       "<table border=\"1\" class=\"dataframe\">\n",
       "  <thead>\n",
       "    <tr style=\"text-align: right;\">\n",
       "      <th></th>\n",
       "      <th>0</th>\n",
       "      <th>1</th>\n",
       "      <th>2</th>\n",
       "      <th>...</th>\n",
       "      <th>7</th>\n",
       "      <th>8</th>\n",
       "      <th>9</th>\n",
       "    </tr>\n",
       "  </thead>\n",
       "  <tbody>\n",
       "    <tr>\n",
       "      <th>2021-04-28</th>\n",
       "      <td>0.077</td>\n",
       "      <td>-0.015</td>\n",
       "      <td>0.024</td>\n",
       "      <td>...</td>\n",
       "      <td>0.072</td>\n",
       "      <td>0.045</td>\n",
       "      <td>-0.012</td>\n",
       "    </tr>\n",
       "    <tr>\n",
       "      <th>2021-04-29</th>\n",
       "      <td>0.063</td>\n",
       "      <td>-0.007</td>\n",
       "      <td>0.082</td>\n",
       "      <td>...</td>\n",
       "      <td>0.020</td>\n",
       "      <td>0.032</td>\n",
       "      <td>-0.070</td>\n",
       "    </tr>\n",
       "    <tr>\n",
       "      <th>2021-04-30</th>\n",
       "      <td>0.060</td>\n",
       "      <td>-0.008</td>\n",
       "      <td>0.105</td>\n",
       "      <td>...</td>\n",
       "      <td>-0.002</td>\n",
       "      <td>0.059</td>\n",
       "      <td>-0.096</td>\n",
       "    </tr>\n",
       "    <tr>\n",
       "      <th>2021-05-03</th>\n",
       "      <td>0.061</td>\n",
       "      <td>-0.047</td>\n",
       "      <td>0.078</td>\n",
       "      <td>...</td>\n",
       "      <td>-0.051</td>\n",
       "      <td>0.096</td>\n",
       "      <td>-0.092</td>\n",
       "    </tr>\n",
       "    <tr>\n",
       "      <th>2021-05-04</th>\n",
       "      <td>0.062</td>\n",
       "      <td>0.027</td>\n",
       "      <td>0.039</td>\n",
       "      <td>...</td>\n",
       "      <td>-0.015</td>\n",
       "      <td>0.118</td>\n",
       "      <td>-0.065</td>\n",
       "    </tr>\n",
       "    <tr>\n",
       "      <th>...</th>\n",
       "      <td>...</td>\n",
       "      <td>...</td>\n",
       "      <td>...</td>\n",
       "      <td>...</td>\n",
       "      <td>...</td>\n",
       "      <td>...</td>\n",
       "      <td>...</td>\n",
       "    </tr>\n",
       "    <tr>\n",
       "      <th>2022-09-12</th>\n",
       "      <td>-1.726</td>\n",
       "      <td>1.371</td>\n",
       "      <td>-0.333</td>\n",
       "      <td>...</td>\n",
       "      <td>-0.611</td>\n",
       "      <td>0.524</td>\n",
       "      <td>0.504</td>\n",
       "    </tr>\n",
       "    <tr>\n",
       "      <th>2022-09-13</th>\n",
       "      <td>-1.680</td>\n",
       "      <td>1.378</td>\n",
       "      <td>-0.345</td>\n",
       "      <td>...</td>\n",
       "      <td>-0.604</td>\n",
       "      <td>0.466</td>\n",
       "      <td>0.527</td>\n",
       "    </tr>\n",
       "    <tr>\n",
       "      <th>2022-09-14</th>\n",
       "      <td>-1.682</td>\n",
       "      <td>1.428</td>\n",
       "      <td>-0.346</td>\n",
       "      <td>...</td>\n",
       "      <td>-0.572</td>\n",
       "      <td>0.446</td>\n",
       "      <td>0.500</td>\n",
       "    </tr>\n",
       "    <tr>\n",
       "      <th>2022-09-15</th>\n",
       "      <td>-1.708</td>\n",
       "      <td>1.372</td>\n",
       "      <td>-0.298</td>\n",
       "      <td>...</td>\n",
       "      <td>-0.648</td>\n",
       "      <td>0.474</td>\n",
       "      <td>0.521</td>\n",
       "    </tr>\n",
       "    <tr>\n",
       "      <th>2022-09-16</th>\n",
       "      <td>-1.740</td>\n",
       "      <td>1.404</td>\n",
       "      <td>-0.265</td>\n",
       "      <td>...</td>\n",
       "      <td>-0.608</td>\n",
       "      <td>0.476</td>\n",
       "      <td>0.486</td>\n",
       "    </tr>\n",
       "  </tbody>\n",
       "</table>\n",
       "<p>363 rows × 10 columns</p>\n",
       "</div>"
      ],
      "text/plain": [
       "                0      1      2  ...      7      8      9\n",
       "2021-04-28  0.077 -0.015  0.024  ...  0.072  0.045 -0.012\n",
       "2021-04-29  0.063 -0.007  0.082  ...  0.020  0.032 -0.070\n",
       "2021-04-30  0.060 -0.008  0.105  ... -0.002  0.059 -0.096\n",
       "2021-05-03  0.061 -0.047  0.078  ... -0.051  0.096 -0.092\n",
       "2021-05-04  0.062  0.027  0.039  ... -0.015  0.118 -0.065\n",
       "...           ...    ...    ...  ...    ...    ...    ...\n",
       "2022-09-12 -1.726  1.371 -0.333  ... -0.611  0.524  0.504\n",
       "2022-09-13 -1.680  1.378 -0.345  ... -0.604  0.466  0.527\n",
       "2022-09-14 -1.682  1.428 -0.346  ... -0.572  0.446  0.500\n",
       "2022-09-15 -1.708  1.372 -0.298  ... -0.648  0.474  0.521\n",
       "2022-09-16 -1.740  1.404 -0.265  ... -0.608  0.476  0.486\n",
       "\n",
       "[363 rows x 10 columns]"
      ]
     },
     "execution_count": 27,
     "metadata": {},
     "output_type": "execute_result"
    }
   ],
   "source": [
    "sim_ret = pd.DataFrame(sigma*np.random.randn(ndays,nscen)+r, index=dates)\n",
    "sim_ret.cumsum()"
   ]
  },
  {
   "cell_type": "code",
   "execution_count": 28,
   "metadata": {},
   "outputs": [
    {
     "data": {
      "text/html": [
       "<div>\n",
       "<style scoped>\n",
       "    .dataframe tbody tr th:only-of-type {\n",
       "        vertical-align: middle;\n",
       "    }\n",
       "\n",
       "    .dataframe tbody tr th {\n",
       "        vertical-align: top;\n",
       "    }\n",
       "\n",
       "    .dataframe thead th {\n",
       "        text-align: right;\n",
       "    }\n",
       "</style>\n",
       "<table border=\"1\" class=\"dataframe\">\n",
       "  <thead>\n",
       "    <tr style=\"text-align: right;\">\n",
       "      <th></th>\n",
       "      <th>0</th>\n",
       "      <th>1</th>\n",
       "      <th>2</th>\n",
       "      <th>...</th>\n",
       "      <th>7</th>\n",
       "      <th>8</th>\n",
       "      <th>9</th>\n",
       "    </tr>\n",
       "  </thead>\n",
       "  <tbody>\n",
       "    <tr>\n",
       "      <th>2021-04-28</th>\n",
       "      <td>696.870</td>\n",
       "      <td>696.870</td>\n",
       "      <td>696.870</td>\n",
       "      <td>...</td>\n",
       "      <td>696.870</td>\n",
       "      <td>696.870</td>\n",
       "      <td>696.870</td>\n",
       "    </tr>\n",
       "    <tr>\n",
       "      <th>2021-04-29</th>\n",
       "      <td>742.016</td>\n",
       "      <td>692.000</td>\n",
       "      <td>756.792</td>\n",
       "      <td>...</td>\n",
       "      <td>710.745</td>\n",
       "      <td>719.437</td>\n",
       "      <td>649.608</td>\n",
       "    </tr>\n",
       "    <tr>\n",
       "      <th>2021-04-30</th>\n",
       "      <td>740.090</td>\n",
       "      <td>691.473</td>\n",
       "      <td>773.904</td>\n",
       "      <td>...</td>\n",
       "      <td>695.199</td>\n",
       "      <td>739.407</td>\n",
       "      <td>633.066</td>\n",
       "    </tr>\n",
       "    <tr>\n",
       "      <th>2021-05-03</th>\n",
       "      <td>740.553</td>\n",
       "      <td>664.845</td>\n",
       "      <td>753.328</td>\n",
       "      <td>...</td>\n",
       "      <td>662.191</td>\n",
       "      <td>767.438</td>\n",
       "      <td>635.910</td>\n",
       "    </tr>\n",
       "    <tr>\n",
       "      <th>2021-05-04</th>\n",
       "      <td>741.390</td>\n",
       "      <td>715.902</td>\n",
       "      <td>724.878</td>\n",
       "      <td>...</td>\n",
       "      <td>686.289</td>\n",
       "      <td>784.098</td>\n",
       "      <td>653.042</td>\n",
       "    </tr>\n",
       "    <tr>\n",
       "      <th>...</th>\n",
       "      <td>...</td>\n",
       "      <td>...</td>\n",
       "      <td>...</td>\n",
       "      <td>...</td>\n",
       "      <td>...</td>\n",
       "      <td>...</td>\n",
       "      <td>...</td>\n",
       "    </tr>\n",
       "    <tr>\n",
       "      <th>2022-09-12</th>\n",
       "      <td>124.088</td>\n",
       "      <td>2745.902</td>\n",
       "      <td>499.378</td>\n",
       "      <td>...</td>\n",
       "      <td>378.268</td>\n",
       "      <td>1176.858</td>\n",
       "      <td>1154.122</td>\n",
       "    </tr>\n",
       "    <tr>\n",
       "      <th>2022-09-13</th>\n",
       "      <td>129.831</td>\n",
       "      <td>2764.198</td>\n",
       "      <td>493.651</td>\n",
       "      <td>...</td>\n",
       "      <td>380.954</td>\n",
       "      <td>1110.220</td>\n",
       "      <td>1179.877</td>\n",
       "    </tr>\n",
       "    <tr>\n",
       "      <th>2022-09-14</th>\n",
       "      <td>129.646</td>\n",
       "      <td>2906.763</td>\n",
       "      <td>493.036</td>\n",
       "      <td>...</td>\n",
       "      <td>393.456</td>\n",
       "      <td>1088.011</td>\n",
       "      <td>1148.867</td>\n",
       "    </tr>\n",
       "    <tr>\n",
       "      <th>2022-09-15</th>\n",
       "      <td>126.308</td>\n",
       "      <td>2747.728</td>\n",
       "      <td>517.327</td>\n",
       "      <td>...</td>\n",
       "      <td>364.355</td>\n",
       "      <td>1118.978</td>\n",
       "      <td>1173.162</td>\n",
       "    </tr>\n",
       "    <tr>\n",
       "      <th>2022-09-16</th>\n",
       "      <td>122.261</td>\n",
       "      <td>2836.699</td>\n",
       "      <td>534.839</td>\n",
       "      <td>...</td>\n",
       "      <td>379.406</td>\n",
       "      <td>1121.988</td>\n",
       "      <td>1132.760</td>\n",
       "    </tr>\n",
       "  </tbody>\n",
       "</table>\n",
       "<p>363 rows × 10 columns</p>\n",
       "</div>"
      ],
      "text/plain": [
       "                  0         1        2  ...        7         8         9\n",
       "2021-04-28  696.870   696.870  696.870  ...  696.870   696.870   696.870\n",
       "2021-04-29  742.016   692.000  756.792  ...  710.745   719.437   649.608\n",
       "2021-04-30  740.090   691.473  773.904  ...  695.199   739.407   633.066\n",
       "2021-05-03  740.553   664.845  753.328  ...  662.191   767.438   635.910\n",
       "2021-05-04  741.390   715.902  724.878  ...  686.289   784.098   653.042\n",
       "...             ...       ...      ...  ...      ...       ...       ...\n",
       "2022-09-12  124.088  2745.902  499.378  ...  378.268  1176.858  1154.122\n",
       "2022-09-13  129.831  2764.198  493.651  ...  380.954  1110.220  1179.877\n",
       "2022-09-14  129.646  2906.763  493.036  ...  393.456  1088.011  1148.867\n",
       "2022-09-15  126.308  2747.728  517.327  ...  364.355  1118.978  1173.162\n",
       "2022-09-16  122.261  2836.699  534.839  ...  379.406  1121.988  1132.760\n",
       "\n",
       "[363 rows x 10 columns]"
      ]
     },
     "execution_count": 28,
     "metadata": {},
     "output_type": "execute_result"
    }
   ],
   "source": [
    "S0 = closes_tesla.iloc[-1,0]  # Condición inicial del precio a simular\n",
    "sim_closes = S0*np.exp(sim_ret.cumsum())\n",
    "sim_closes.iloc[0, :] = S0\n",
    "sim_closes"
   ]
  },
  {
   "cell_type": "code",
   "execution_count": 29,
   "metadata": {},
   "outputs": [
    {
     "data": {
      "image/png": "[encoded data removed]",
      "text/plain": [
       "<Figure size 360x288 with 1 Axes>"
      ]
     },
     "metadata": {
      "needs_background": "light"
     },
     "output_type": "display_data"
    },
    {
     "data": {
      "image/png": "[encoded data removed]",
      "text/plain": [
       "<Figure size 360x288 with 1 Axes>"
      ]
     },
     "metadata": {
      "needs_background": "light"
     },
     "output_type": "display_data"
    }
   ],
   "source": [
    "sim_closes.plot(figsize=(5,4));\n",
    "# Se muestran los precios simulados con los precios descargados\n",
    "pd.concat([closes_tesla,sim_closes]).plot(figsize=(5,4));"
   ]
  },
  {
   "cell_type": "code",
   "execution_count": 30,
   "metadata": {},
   "outputs": [
    {
     "data": {
      "text/plain": [
       "{'contractSymbol': 'TSLA220916P00700000',\n",
       " 'strike': 700.0,\n",
       " 'currency': 'USD',\n",
       " 'lastPrice': 209.23,\n",
       " 'change': -1.5299988,\n",
       " 'percentChange': -0.7259436,\n",
       " 'volume': 3,\n",
       " 'openInterest': 1029,\n",
       " 'bid': 208.15,\n",
       " 'ask': 211.25,\n",
       " 'contractSize': 'REGULAR',\n",
       " 'expiration': 1663286400,\n",
       " 'lastTradeDate': 1619618322,\n",
       " 'impliedVolatility': 0.6486622658538819,\n",
       " 'inTheMoney': True}"
      ]
     },
     "execution_count": 30,
     "metadata": {},
     "output_type": "execute_result"
    }
   ],
   "source": [
    "opcion_valuar['JSON']"
   ]
  },
  {
   "cell_type": "code",
   "execution_count": 31,
   "metadata": {},
   "outputs": [
    {
     "data": {
      "text/plain": [
       "Strike                                                            700\n",
       "Expiry                                            2022-09-16 00:00:00\n",
       "Type                                                              put\n",
       "Symbol                                            TSLA220916P00700000\n",
       "Last                                                              209\n",
       "                                          ...                        \n",
       "Underlying                                                       TSLA\n",
       "Underlying_Price                                                  696\n",
       "Quote_Time                                        2021-04-28 19:13:25\n",
       "Last_Trade_Date                                   2021-04-28 13:58:42\n",
       "JSON                {'contractSymbol': 'TSLA220916P00700000', 'str...\n",
       "Name: 3821, Length: 19, dtype: object"
      ]
     },
     "execution_count": 31,
     "metadata": {},
     "output_type": "execute_result"
    }
   ],
   "source": [
    "opcion_valuar"
   ]
  },
  {
   "cell_type": "code",
   "execution_count": 32,
   "metadata": {},
   "outputs": [],
   "source": [
    "Hoy = date.today()\n",
    "# strike price de la opción\n",
    "K = opcion_valuar['JSON']['strike']  \n",
    "# Fechas a simular\n",
    "dates = pd.date_range(start= Hoy, periods = ndays, freq='B')\n",
    "# Escenarios y número de días\n",
    "ndays = len(dates)\n",
    "nscen = 100000\n",
    "# Condición inicial del precio a simular\n",
    "S0 = closes_tesla.iloc[-1,0]  \n",
    "# simular rendimientos\n",
    "sim_ret = pd.DataFrame(sigma*np.random.randn(ndays,nscen)+r,index=dates)\n",
    "# Simular precios\n",
    "sim_closes = S0*np.exp(sim_ret.cumsum())\n",
    "\n"
   ]
  },
  {
   "cell_type": "code",
   "execution_count": 33,
   "metadata": {},
   "outputs": [
    {
     "data": {
      "image/png": "[encoded data removed]",
      "text/plain": [
       "<Figure size 432x288 with 1 Axes>"
      ]
     },
     "metadata": {
      "needs_background": "light"
     },
     "output_type": "display_data"
    }
   ],
   "source": [
    "#PUT:\n",
    "put = pd.DataFrame({'Prima':np.exp(-r*ndays) \\\n",
    "              *np.fmax(K-sim_closes, 0).mean(axis=1)}, index=dates)\n",
    "put.plot();"
   ]
  },
  {
   "cell_type": "code",
   "execution_count": 34,
   "metadata": {},
   "outputs": [
    {
     "data": {
      "text/plain": [
       "Prima    138.374\n",
       "Name: 2022-09-16 00:00:00, dtype: float64"
      ]
     },
     "execution_count": 34,
     "metadata": {},
     "output_type": "execute_result"
    }
   ],
   "source": [
    "put.iloc[-1]"
   ]
  },
  {
   "cell_type": "code",
   "execution_count": 35,
   "metadata": {},
   "outputs": [
    {
     "name": "stdout",
     "output_type": "stream",
     "text": [
      "(131.92133093809116, 144.8264246928361)\n"
     ]
    }
   ],
   "source": [
    "confianza = 0.99\n",
    "sigma_est = sim_closes.iloc[-1].sem()\n",
    "mean_est = put.iloc[-1].Prima\n",
    "i2 = st.norm.interval(confianza, loc=mean_est, scale=sigma_est)\n",
    "print(i2)"
   ]
  },
  {
   "cell_type": "markdown",
   "metadata": {},
   "source": [
    "### Usando técnicas de reducción de varianza:"
   ]
  },
  {
   "cell_type": "code",
   "execution_count": 36,
   "metadata": {},
   "outputs": [
    {
     "data": {
      "image/png": "[encoded data removed]",
      "text/plain": [
       "<Figure size 432x288 with 1 Axes>"
      ]
     },
     "metadata": {
      "needs_background": "light"
     },
     "output_type": "display_data"
    }
   ],
   "source": [
    "# Usando muestreo estratificado----> #estratros = nscen\n",
    "U = (np.arange(0,nscen)+np.random.rand(ndays,nscen))/nscen\n",
    "Z = st.norm.ppf(U)\n",
    "\n",
    "sim_ret2 = pd.DataFrame(sigma*Z+r,index=dates)\n",
    "sim_closes2 = S0*np.exp(sim_ret.cumsum())\n",
    "\n",
    "# Función de pago\n",
    "strike = pd.DataFrame(K*np.ones([ndays,nscen]), index=dates)\n",
    "put = pd.DataFrame({'Prima':np.exp(-r*ndays) \\\n",
    "              *np.fmax(strike-sim_closes2,np.zeros([ndays,nscen])).T.mean()}, index=dates)\n",
    "put.plot();"
   ]
  },
  {
   "cell_type": "code",
   "execution_count": 37,
   "metadata": {},
   "outputs": [
    {
     "data": {
      "text/plain": [
       "Prima    138.374\n",
       "Name: 2022-09-16 00:00:00, dtype: float64"
      ]
     },
     "execution_count": 37,
     "metadata": {},
     "output_type": "execute_result"
    }
   ],
   "source": [
    "put.iloc[-1]"
   ]
  },
  {
   "cell_type": "code",
   "execution_count": 38,
   "metadata": {},
   "outputs": [
    {
     "name": "stdout",
     "output_type": "stream",
     "text": [
      "(131.92133093809116, 144.8264246928361)\n"
     ]
    }
   ],
   "source": [
    "confianza = 0.99\n",
    "sigma_est = sim_closes2.iloc[-1].sem()\n",
    "mean_est = put.iloc[-1].Prima\n",
    "i2 = st.norm.interval(confianza, loc=mean_est, scale=sigma_est)\n",
    "print(i2)"
   ]
  },
  {
   "cell_type": "markdown",
   "metadata": {},
   "source": [
    "### Análisis de la distribución de los rendimientos:"
   ]
  },
  {
   "cell_type": "code",
   "execution_count": 39,
   "metadata": {},
   "outputs": [
    {
     "data": {
      "image/png": "[encoded data removed]",
      "text/plain": [
       "<Figure size 432x288 with 1 Axes>"
      ]
     },
     "metadata": {
      "needs_background": "light"
     },
     "output_type": "display_data"
    }
   ],
   "source": [
    "#AJUSTANDO_NORM\n",
    "ren = calc_daily_ret(closes_tesla) # rendimientos \n",
    "y,x,_ = plt.hist(ren['tsla'],bins=50,density=True,label='Histograma rendimientos')\n",
    "\n",
    "mu_fit,sd_fit = st.norm.fit(ren) # Se ajustan los parámetros de una normal\n",
    "# Valores máximo y mínimo de los rendiemientos a generar\n",
    "ren_max = max(x);ren_min = min(x)\n",
    "# Vector de rendimientos generados\n",
    "ren_gen = np.arange(ren_min,ren_max,0.001)\n",
    "# Generación de la normal ajustado con los parámetros encontrados\n",
    "curve_fit = st.norm.pdf(ren_gen,loc=mu_fit,scale=sd_fit)\n",
    "plt.plot(ren_gen,curve_fit,label='Distribución ajustada')\n",
    "plt.legend()\n",
    "plt.show()\n",
    "\n"
   ]
  },
  {
   "cell_type": "code",
   "execution_count": 40,
   "metadata": {},
   "outputs": [
    {
     "data": {
      "image/png": "[encoded data removed]",
      "text/plain": [
       "<Figure size 432x288 with 1 Axes>"
      ]
     },
     "metadata": {
      "needs_background": "light"
     },
     "output_type": "display_data"
    },
    {
     "data": {
      "image/png": "[encoded data removed]",
      "text/plain": [
       "<Figure size 432x288 with 1 Axes>"
      ]
     },
     "metadata": {
      "needs_background": "light"
     },
     "output_type": "display_data"
    }
   ],
   "source": [
    "#AJUSTANDO_T:\n",
    "\n",
    "# rendimientos \n",
    "ren = calc_daily_ret(closes_tesla) \n",
    "# Histograma de los rendimientos\n",
    "y, x, _ = plt.hist(ren['tsla'], bins=50, density=True, label='Histograma rendimientos')\n",
    "# Se ajustan los parámetros de una distribución\n",
    "dist = 't'\n",
    "params = getattr(st, dist).fit(ren.values) \n",
    "# Generación de la pdf de la distribución ajustado con los parámetros encontrados\n",
    "curve_fit = getattr(st, dist).pdf(x, *params)\n",
    "plt.plot(x, curve_fit, label='Distribución ajustada')\n",
    "plt.legend()\n",
    "plt.show()\n",
    "# Q-Q\n",
    "st.probplot(ren['tsla'], sparams=params[:-2], dist=dist, plot=plt);"
   ]
  },
  {
   "cell_type": "markdown",
   "metadata": {},
   "source": [
    "### Valuación usando simulación: uso del histograma de rendimientos:"
   ]
  },
  {
   "cell_type": "code",
   "execution_count": 41,
   "metadata": {},
   "outputs": [
    {
     "data": {
      "text/plain": [
       "0.9999999999999998"
      ]
     },
     "execution_count": 41,
     "metadata": {},
     "output_type": "execute_result"
    }
   ],
   "source": [
    "ndays = len(dates) \n",
    "nscen = 10\n",
    "#prob\n",
    "prob = y/np.sum(y)\n",
    "values = x[1:]\n",
    "prob.sum()"
   ]
  },
  {
   "cell_type": "code",
   "execution_count": 42,
   "metadata": {},
   "outputs": [
    {
     "data": {
      "text/html": [
       "<div>\n",
       "<style scoped>\n",
       "    .dataframe tbody tr th:only-of-type {\n",
       "        vertical-align: middle;\n",
       "    }\n",
       "\n",
       "    .dataframe tbody tr th {\n",
       "        vertical-align: top;\n",
       "    }\n",
       "\n",
       "    .dataframe thead th {\n",
       "        text-align: right;\n",
       "    }\n",
       "</style>\n",
       "<table border=\"1\" class=\"dataframe\">\n",
       "  <thead>\n",
       "    <tr style=\"text-align: right;\">\n",
       "      <th></th>\n",
       "      <th>0</th>\n",
       "      <th>1</th>\n",
       "      <th>2</th>\n",
       "      <th>...</th>\n",
       "      <th>7</th>\n",
       "      <th>8</th>\n",
       "      <th>9</th>\n",
       "    </tr>\n",
       "  </thead>\n",
       "  <tbody>\n",
       "    <tr>\n",
       "      <th>2021-04-28</th>\n",
       "      <td>0.031</td>\n",
       "      <td>0.014</td>\n",
       "      <td>0.056</td>\n",
       "      <td>...</td>\n",
       "      <td>0.006</td>\n",
       "      <td>-0.002</td>\n",
       "      <td>-0.002</td>\n",
       "    </tr>\n",
       "    <tr>\n",
       "      <th>2021-04-29</th>\n",
       "      <td>-0.069</td>\n",
       "      <td>0.023</td>\n",
       "      <td>-0.145</td>\n",
       "      <td>...</td>\n",
       "      <td>0.023</td>\n",
       "      <td>-0.044</td>\n",
       "      <td>-0.036</td>\n",
       "    </tr>\n",
       "    <tr>\n",
       "      <th>2021-04-30</th>\n",
       "      <td>0.031</td>\n",
       "      <td>-0.002</td>\n",
       "      <td>-0.044</td>\n",
       "      <td>...</td>\n",
       "      <td>-0.028</td>\n",
       "      <td>0.014</td>\n",
       "      <td>-0.019</td>\n",
       "    </tr>\n",
       "  </tbody>\n",
       "</table>\n",
       "<p>3 rows × 10 columns</p>\n",
       "</div>"
      ],
      "text/plain": [
       "                0      1      2  ...      7      8      9\n",
       "2021-04-28  0.031  0.014  0.056  ...  0.006 -0.002 -0.002\n",
       "2021-04-29 -0.069  0.023 -0.145  ...  0.023 -0.044 -0.036\n",
       "2021-04-30  0.031 -0.002 -0.044  ... -0.028  0.014 -0.019\n",
       "\n",
       "[3 rows x 10 columns]"
      ]
     },
     "execution_count": 42,
     "metadata": {},
     "output_type": "execute_result"
    }
   ],
   "source": [
    "# Rendimientos simulados\n",
    "ret = np.random.choice(values, ndays*nscen, p=prob)\n",
    "# Fechas\n",
    "dates = pd.date_range(start=Hoy,periods=ndays)\n",
    "# Rendimien en Data Frame\n",
    "sim_ret_hist = pd.DataFrame(ret.reshape((ndays,nscen)),index=dates)\n",
    "sim_ret_hist.head(3)"
   ]
  },
  {
   "cell_type": "code",
   "execution_count": 43,
   "metadata": {},
   "outputs": [
    {
     "data": {
      "text/html": [
       "<div>\n",
       "<style scoped>\n",
       "    .dataframe tbody tr th:only-of-type {\n",
       "        vertical-align: middle;\n",
       "    }\n",
       "\n",
       "    .dataframe tbody tr th {\n",
       "        vertical-align: top;\n",
       "    }\n",
       "\n",
       "    .dataframe thead th {\n",
       "        text-align: right;\n",
       "    }\n",
       "</style>\n",
       "<table border=\"1\" class=\"dataframe\">\n",
       "  <thead>\n",
       "    <tr style=\"text-align: right;\">\n",
       "      <th></th>\n",
       "      <th>0</th>\n",
       "      <th>1</th>\n",
       "      <th>2</th>\n",
       "      <th>...</th>\n",
       "      <th>7</th>\n",
       "      <th>8</th>\n",
       "      <th>9</th>\n",
       "    </tr>\n",
       "  </thead>\n",
       "  <tbody>\n",
       "    <tr>\n",
       "      <th>2021-04-28</th>\n",
       "      <td>718.796</td>\n",
       "      <td>706.878</td>\n",
       "      <td>737.049</td>\n",
       "      <td>...</td>\n",
       "      <td>700.994</td>\n",
       "      <td>695.159</td>\n",
       "      <td>695.159</td>\n",
       "    </tr>\n",
       "    <tr>\n",
       "      <th>2021-04-29</th>\n",
       "      <td>670.648</td>\n",
       "      <td>723.049</td>\n",
       "      <td>637.841</td>\n",
       "      <td>...</td>\n",
       "      <td>717.031</td>\n",
       "      <td>665.065</td>\n",
       "      <td>670.648</td>\n",
       "    </tr>\n",
       "    <tr>\n",
       "      <th>2021-04-30</th>\n",
       "      <td>691.749</td>\n",
       "      <td>721.274</td>\n",
       "      <td>610.229</td>\n",
       "      <td>...</td>\n",
       "      <td>697.555</td>\n",
       "      <td>674.617</td>\n",
       "      <td>657.909</td>\n",
       "    </tr>\n",
       "  </tbody>\n",
       "</table>\n",
       "<p>3 rows × 10 columns</p>\n",
       "</div>"
      ],
      "text/plain": [
       "                  0        1        2  ...        7        8        9\n",
       "2021-04-28  718.796  706.878  737.049  ...  700.994  695.159  695.159\n",
       "2021-04-29  670.648  723.049  637.841  ...  717.031  665.065  670.648\n",
       "2021-04-30  691.749  721.274  610.229  ...  697.555  674.617  657.909\n",
       "\n",
       "[3 rows x 10 columns]"
      ]
     },
     "execution_count": 43,
     "metadata": {},
     "output_type": "execute_result"
    }
   ],
   "source": [
    "sim_closes_hist = (closes_tesla.iloc[-1,0])*np.exp(sim_ret_hist.cumsum())\n",
    "sim_closes_hist.head(3)"
   ]
  },
  {
   "cell_type": "code",
   "execution_count": 44,
   "metadata": {},
   "outputs": [
    {
     "data": {
      "image/png": "[encoded data removed]",
      "text/plain": [
       "<Figure size 432x360 with 1 Axes>"
      ]
     },
     "metadata": {
      "needs_background": "light"
     },
     "output_type": "display_data"
    }
   ],
   "source": [
    "sim_closes_hist.plot(figsize=(6,5),legend=False);"
   ]
  },
  {
   "cell_type": "code",
   "execution_count": 45,
   "metadata": {},
   "outputs": [
    {
     "data": {
      "text/plain": [
       "Text(0.5, 1.0, 'Simulación usando el histograma de los rendimientos')"
      ]
     },
     "execution_count": 45,
     "metadata": {},
     "output_type": "execute_result"
    },
    {
     "data": {
      "image/png": "[encoded data removed]",
      "text/plain": [
       "<Figure size 432x360 with 1 Axes>"
      ]
     },
     "metadata": {
      "needs_background": "light"
     },
     "output_type": "display_data"
    }
   ],
   "source": [
    "pd.concat([closes_tesla,sim_closes_hist]).plot(figsize=(6,5),legend=False);\n",
    "plt.title('Simulación usando el histograma de los rendimientos')"
   ]
  },
  {
   "cell_type": "code",
   "execution_count": 46,
   "metadata": {},
   "outputs": [],
   "source": [
    "K = opcion_valuar['JSON']['strike']\n",
    "ndays = len(dates)\n",
    "nscen = 100000\n",
    "# Histograma tomando la tasa libre de riesgo\n",
    "freq, values = np.histogram(ret_tesla+r-mu, bins=2000)\n",
    "prob = freq/np.sum(freq)\n",
    "# Simulación de los rendimientos\n",
    "ret = np.random.choice(values[1:], ndays*nscen, p=prob)\n",
    "# Simulación de precios\n",
    "sim_ret_hist = pd.DataFrame(ret.reshape((ndays,nscen)),index=dates)\n",
    "sim_closes_hist = (closes_tesla.iloc[-1,0]) * np.exp(sim_ret_hist.cumsum())"
   ]
  },
  {
   "cell_type": "code",
   "execution_count": 47,
   "metadata": {},
   "outputs": [
    {
     "data": {
      "image/png": "[encoded data removed]",
      "text/plain": [
       "<Figure size 432x288 with 1 Axes>"
      ]
     },
     "metadata": {
      "needs_background": "light"
     },
     "output_type": "display_data"
    }
   ],
   "source": [
    "strike = pd.DataFrame(K*np.ones(ndays*nscen).reshape((ndays,nscen)), index=dates)\n",
    "put_hist = pd.DataFrame({'Prima':np.exp(-r*ndays) \\\n",
    "                          *np.fmax(strike-sim_closes_hist,np.zeros(ndays*nscen).reshape((ndays,nscen))).T.mean()}, index=dates)\n",
    "put_hist.plot();"
   ]
  },
  {
   "cell_type": "code",
   "execution_count": 48,
   "metadata": {},
   "outputs": [
    {
     "data": {
      "text/plain": [
       "Prima    129.421\n",
       "Name: 2022-04-25 00:00:00, dtype: float64"
      ]
     },
     "execution_count": 48,
     "metadata": {},
     "output_type": "execute_result"
    }
   ],
   "source": [
    "put_hist.iloc[-1]"
   ]
  },
  {
   "cell_type": "code",
   "execution_count": 49,
   "metadata": {},
   "outputs": [
    {
     "data": {
      "text/plain": [
       "{'contractSymbol': 'TSLA220916P00700000',\n",
       " 'strike': 700.0,\n",
       " 'currency': 'USD',\n",
       " 'lastPrice': 209.23,\n",
       " 'change': -1.5299988,\n",
       " 'percentChange': -0.7259436,\n",
       " 'volume': 3,\n",
       " 'openInterest': 1029,\n",
       " 'bid': 208.15,\n",
       " 'ask': 211.25,\n",
       " 'contractSize': 'REGULAR',\n",
       " 'expiration': 1663286400,\n",
       " 'lastTradeDate': 1619618322,\n",
       " 'impliedVolatility': 0.6486622658538819,\n",
       " 'inTheMoney': True}"
      ]
     },
     "execution_count": 49,
     "metadata": {},
     "output_type": "execute_result"
    }
   ],
   "source": [
    "opcion_valuar['JSON']"
   ]
  },
  {
   "cell_type": "code",
   "execution_count": 50,
   "metadata": {},
   "outputs": [
    {
     "name": "stdout",
     "output_type": "stream",
     "text": [
      "(124.19803240657231, 134.64384274882505)\n"
     ]
    }
   ],
   "source": [
    "confianza = 0.95\n",
    "sigma_est = sim_closes_hist.iloc[-1].sem()\n",
    "mean_est = put_hist.iloc[-1].Prima\n",
    "i1 = st.t.interval(confianza,nscen-1, loc=mean_est, scale=sigma_est)\n",
    "i2 = st.norm.interval(confianza, loc=mean_est, scale=sigma_est)\n",
    "print(i1)"
   ]
  },
  {
   "cell_type": "markdown",
   "metadata": {},
   "source": [
    "## Black Scholes:  "
   ]
  },
  {
   "cell_type": "code",
   "execution_count": 61,
   "metadata": {},
   "outputs": [
    {
     "data": {
      "text/plain": [
       "168.98378876389097"
      ]
     },
     "execution_count": 61,
     "metadata": {},
     "output_type": "execute_result"
    }
   ],
   "source": [
    "#Resolver d1 con datos previos:\n",
    "v = ren[\"tsla\"].std()*np.sqrt(252) #para anualizar\n",
    "st = p\n",
    "d1 = ((fr+(v**2)/2)+np.log(st/k))/v\n",
    "#resolver d2:\n",
    "d2 = (d1-v)\n",
    "#bs:\n",
    "p1 = (np.exp(-fr)*norm.cdf(-d2)*700)\n",
    "p2 = (st*norm.cdf(-d1))\n",
    "bs = p1-p2\n",
    "bs"
   ]
  },
  {
   "cell_type": "markdown",
   "metadata": {},
   "source": [
    "## Comparación: "
   ]
  },
  {
   "cell_type": "code",
   "execution_count": 62,
   "metadata": {},
   "outputs": [
    {
     "data": {
      "text/html": [
       "<div>\n",
       "<style scoped>\n",
       "    .dataframe tbody tr th:only-of-type {\n",
       "        vertical-align: middle;\n",
       "    }\n",
       "\n",
       "    .dataframe tbody tr th {\n",
       "        vertical-align: top;\n",
       "    }\n",
       "\n",
       "    .dataframe thead th {\n",
       "        text-align: right;\n",
       "    }\n",
       "</style>\n",
       "<table border=\"1\" class=\"dataframe\">\n",
       "  <thead>\n",
       "    <tr style=\"text-align: right;\">\n",
       "      <th></th>\n",
       "      <th>Black scholes</th>\n",
       "      <th>Simulación</th>\n",
       "    </tr>\n",
       "  </thead>\n",
       "  <tbody>\n",
       "    <tr>\n",
       "      <th>Valor</th>\n",
       "      <td>168.984</td>\n",
       "      <td>129.421</td>\n",
       "    </tr>\n",
       "  </tbody>\n",
       "</table>\n",
       "</div>"
      ],
      "text/plain": [
       "       Black scholes  Simulación\n",
       "Valor        168.984     129.421"
      ]
     },
     "execution_count": 62,
     "metadata": {},
     "output_type": "execute_result"
    }
   ],
   "source": [
    "#DataFrame con resultado final:\n",
    "df = pd.DataFrame(index=['Valor'], columns = ['Black scholes', 'Simulación'])\n",
    "df['Black scholes'] = bs\n",
    "df['Simulación'] = put_hist.iloc[-1].values\n",
    "df"
   ]
  }
 ],
 "metadata": {
  "kernelspec": {
   "display_name": "Python 3",
   "language": "python",
   "name": "python3"
  },
  "language_info": {
   "codemirror_mode": {
    "name": "ipython",
    "version": 3
   },
   "file_extension": ".py",
   "mimetype": "text/x-python",
   "name": "python",
   "nbconvert_exporter": "python",
   "pygments_lexer": "ipython3",
   "version": "3.8.5"
  }
 },
 "nbformat": 4,
 "nbformat_minor": 4
}
