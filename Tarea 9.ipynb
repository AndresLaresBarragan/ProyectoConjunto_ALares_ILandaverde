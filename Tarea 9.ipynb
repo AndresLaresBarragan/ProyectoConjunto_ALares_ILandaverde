{
 "cells": [
  {
   "cell_type": "markdown",
   "metadata": {},
   "source": [
    "<img style=\"float: left; margin: 30px 15px 15px 15px;\" src=\"https://pngimage.net/wp-content/uploads/2018/06/logo-iteso-png-5.png\" width=\"300\" height=\"500\" /> \n",
    "    \n",
    "    \n",
    "### <font color='navy'> Simulación de procesos financieros. \n",
    "\n",
    "**Nombres:** <span style=\"color:blue\"> Andrés Lares Barragán</span> | <span style=\"color:green\"> Ivette Landaverde </span>\n",
    "\n",
    "**Fecha:**  15 de marzo del 2021.  \n",
    "\n",
    "**Expediente** : <span style=\"color:blue\"> 724055 </span> | <span style=\"color:green\">  </span>\n",
    "\n",
    "**Profesor:** Oscar David Jaramillo Zuluaga.\n",
    "\n",
    "# Tarea 9: Clase 22\n",
    "    \n",
    "### [link de repositorio GitHub](https://github.com/AndresLaresBarragan/ProyectoConjunto_ALares_ILandaverde)"
   ]
  },
  {
   "cell_type": "markdown",
   "metadata": {},
   "source": [
    "**Replicar el procedimiento para valoración de opciones 'call', pero en este caso para opciones tipo 'put'.**"
   ]
  },
  {
   "cell_type": "markdown",
   "metadata": {},
   "source": [
    "Recordando:\n",
    "> Hay un principio general conocido como valoración neutral al riesgo, el cual establece que cualquier título que depende de otros títulos negociados puede valorarse bajo el supuesto de que el mundo es neutral al riesgo. El resultado demuestra ser muy útil en la práctica. *En un mundo neutral al riesgo, el rendimiento esperado de todos los títulos es la tasa de interés libre de riesgo*, y la tasa de descuento correcta para los flujos de efectivo esperados también es la tasa de interés libre de riesgo.\n",
    "\n",
    " > **El equivalente a la función de Black-Scholes se puede demostrar que es:**\n",
    " \n",
    "> $$\\large{\n",
    " \\text{Valor actual de la opción} = V(S_0, T) = E^*(e^{-rT}  f(S_T)) = e^{-rT} E^*(f(S_T))}\n",
    "$$\n",
    "\n",
    "> **donde $f(S_T)$ representa la función de pago de la opción, que para el caso de una opción de venta es:**\n",
    "\n",
    "$$\\large{P(S(t),t)=max\\{K-S(T),0\\}}$$"
   ]
  },
  {
   "cell_type": "markdown",
   "metadata": {},
   "source": [
    "### <span style=\"color:blue\"> Andrés Lares Barragán</span>"
   ]
  },
  {
   "cell_type": "code",
   "execution_count": null,
   "metadata": {},
   "outputs": [],
   "source": [
    "# Solución"
   ]
  },
  {
   "cell_type": "markdown",
   "metadata": {},
   "source": [
    "### <span style=\"color:green\"> Ivette Landaverde </span>"
   ]
  },
  {
   "cell_type": "code",
   "execution_count": 1,
   "metadata": {},
   "outputs": [],
   "source": [
    "# Solución "
   ]
  }
 ],
 "metadata": {
  "kernelspec": {
   "display_name": "Python 3",
   "language": "python",
   "name": "python3"
  },
  "language_info": {
   "codemirror_mode": {
    "name": "ipython",
    "version": 3
   },
   "file_extension": ".py",
   "mimetype": "text/x-python",
   "name": "python",
   "nbconvert_exporter": "python",
   "pygments_lexer": "ipython3",
   "version": "3.8.5"
  }
 },
 "nbformat": 4,
 "nbformat_minor": 4
}
